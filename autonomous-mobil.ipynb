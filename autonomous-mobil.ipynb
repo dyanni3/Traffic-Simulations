{
 "cells": [
  {
   "cell_type": "code",
   "execution_count": 1,
   "metadata": {
    "collapsed": true
   },
   "outputs": [],
   "source": [
    "import numpy as np\n",
    "from matplotlib import pyplot as plt\n",
    "import cv2\n",
    "import random\n",
    "from matplotlib import animation\n",
    "from matplotlib.animation import FuncAnimation\n",
    "%matplotlib inline\n",
    "from scipy.optimize import curve_fit\n",
    "import matplotlib.pylab as pylab\n",
    "from scipy.stats import iqr\n"
   ]
  },
  {
   "cell_type": "code",
   "execution_count": 12,
   "metadata": {
    "collapsed": false
   },
   "outputs": [],
   "source": [
    "def pb(x0,L):\n",
    "\treturn((x0+L)%L)\n",
    "\n",
    "\n",
    "class ant():\n",
    "    \n",
    "    def __init__(self,ids,y=0,flowc=0,stoppedc=0,cari=0,laneint=0):\n",
    "        col=['ro','bo','go']\n",
    "        self.x=np.random.uniform(0,L)\n",
    "        self.y=y\n",
    "        self.xunp=self.x\n",
    "        self.v=np.random.uniform(0,1)\n",
    "        self.dt=.05\n",
    "        self.tau=1.0\n",
    "        self.v_pref=29#+min(np.random.normal(0,6.7),6.7)\n",
    "        self.R=29*2\n",
    "        self.r=4.5\n",
    "        self.ids=ids\n",
    "        self.stopped=0\n",
    "        self.laneint=col[laneint]\n",
    "        #print(cari)\n",
    "        if (cari>=flowc):   \n",
    "            #print(cari)\n",
    "            self.v_pref=0  \n",
    "            self.stopped=1\n",
    "            self.x=500-(laneint)*8.9\n",
    "                #print(stoppedc)\n",
    "\n",
    "        self.ep=((self.v_pref)/self.tau)*(1-(self.r/self.R))**(-1.5)        \n",
    "    def step(self,d=None,vbar=0,counter=0):\n",
    "        if d==None:\n",
    "            self.xunp=self.xunp+self.dt*self.v\n",
    "            self.x=pb(self.x+self.dt*self.v,L)\n",
    "            return('same')\n",
    "        else:\n",
    "            if d<=0:\n",
    "                f=0\n",
    "            else:\n",
    "                if d<self.R:\n",
    "                    #ep=((self.v_pref)/self.tau)*(1-(self.r/self.R))**(-1.5)\n",
    "                    f=self.force(d)\n",
    "                else:\n",
    "                    f=0\n",
    "        x0=self.x                \n",
    "        self.v=max(0,self.v+self.dt*((self.v_pref -self.v)/self.tau -f))\n",
    "        counter+=1\n",
    "        vbar=((counter-1)*vbar+self.v)/counter\n",
    "        self.xunp=self.xunp+self.dt*self.v\n",
    "        self.x=pb(self.x+self.dt*self.v,L)\n",
    "        return(vbar,counter)\n",
    "    def force(self,x):\n",
    "        f=self.ep*(1-(x/self.R))**(1.5)\n",
    "        if type(f)!=complex:\n",
    "            return(f)\n",
    "        else:\n",
    "            return(0)\n",
    "\n",
    "        \n",
    "class ants():\n",
    "    def __init__(self,num_ants=20,lanes=3,L=1000,flowc=0,stoppedc=0,politeness=1):\n",
    "        self.lanes=lanes\n",
    "        self.num_ants=num_ants\n",
    "        #self.stopped=stoppedc\n",
    "        self.members=[[] for i in range(lanes)]\n",
    "        self.state=[[] for i in range(lanes)]\n",
    "        self.vel=[[] for i in range(lanes)]\n",
    "        self.ids=[[] for i in range(lanes)]\n",
    "        self.xunp=[[] for i in range(lanes)]\n",
    "        self.stopped=[[] for i in range(lanes)]\n",
    "        self.laneint=[[] for i in range(lanes)]\n",
    "        self.L=L\n",
    "        self.p=politeness\n",
    "        cari=0\n",
    "        #meanvel=0\n",
    "        for l in range(lanes):\n",
    "            self.members[l]=[ant(ids=i,y=l,flowc=flowc,stoppedc=stoppedc,cari=i,laneint=l) for i in range(num_ants)]\n",
    "            self.state[l]=np.array([bug.x for bug in self.members[l]])\n",
    "            self.xunp[l]=np.array([bug.xunp for bug in self.members[l]])\n",
    "            self.vel[l]=np.array([bug.v for bug in self.members[l]])\n",
    "            self.stopped[l]=np.array([bug.stopped for bug in self.members[l]])\n",
    "            self.ids[l]=np.array([i for i in range(num_ants)])\n",
    "            self.laneint[l]=np.array([bug.laneint for bug in self.members[l]])\n",
    "            self.members[l]=sorted(self.members[l], key=lambda bug: bug.x)\n",
    "            self.counter=0\n",
    "            self.vbar=0\n",
    "            \n",
    "            \n",
    "    def step(self):\n",
    "        meanvel=0\n",
    "        to_switch=[[] for i in range(self.lanes)]\n",
    "        for l in range(self.lanes):\n",
    "        #l=np.random.choice([0,1,2])\n",
    "        #a1=np.arange(len(self.members[l]))\n",
    "        #random.shuffle(a1)\n",
    "        \n",
    "            for i in range(len(self.members[l])):\n",
    "                bug=self.members[l][i]\n",
    "                switchQ=False\n",
    "                if bug.y==0:\n",
    "                    if random.random()>.5:\n",
    "                        switchQ=self.change_lanesQ(0,1,bug,i)\n",
    "                    if switchQ:\n",
    "                        to_switch[1].append(bug)\n",
    "                elif bug.y==1:\n",
    "                    lane_to_try=np.random.choice([0,2])\n",
    "                    switchQ=self.change_lanesQ(1,lane_to_try,bug,i)\n",
    "                    #switchQ=self.change_lanesQ(1,0,bug,a1[i])\n",
    "                    if(switchQ):\n",
    "                        to_switch[lane_to_try].append(bug)\n",
    "                else:\n",
    "                    if random.random()>.5:\n",
    "                        switchQ=self.change_lanesQ(2,1,bug,i)\n",
    "                    if switchQ:\n",
    "                        to_switch[1].append(bug)\n",
    "            \n",
    "                x_b=pb(bug.x,self.L)\n",
    "                x_ol=pb(self.members[l][pb(i+1,len(self.members[l]))].x,self.L)\n",
    "                dx_b=min(abs(x_ol-x_b),self.L-abs(x_ol-x_b))                \n",
    "                self.vbar,self.counter=bug.step(dx_b,self.vbar,self.counter)\n",
    "                               \n",
    "            \n",
    "        for l in range(self.lanes):\n",
    "            for bug in to_switch[l]:\n",
    "                self.members[l].append(bug)\n",
    "                self.members[bug.y].remove(bug)\n",
    "                bug.y=l\n",
    "        for l in range(self.lanes):\n",
    "                \n",
    "            self.members[l]=sorted(self.members[l],key=lambda y: y.x)\n",
    "            self.state[l]=np.array([bug.x for bug in self.members[l]])\n",
    "            self.xunp[l]=np.array([bug.xunp for bug in self.members[l]])\n",
    "            self.vel[l]=np.array([bug.v for bug in self.members[l]])\n",
    "            self.ids[l]=np.array([bug.ids for bug in self.members[l]])\n",
    "            self.stopped[l]=np.array([bug.stopped for bug in self.members[l]])\n",
    "            meanvel=meanvel+np.mean(self.vel[l])\n",
    "            \n",
    "        meanvel=meanvel/3\n",
    " \n",
    "        return(meanvel)\n",
    "\t\t\t\t\t\t\t\t\t\t\t\t\n",
    "    def change_lanesQ(self,current_lane,new_lane,bug,i):\n",
    "        nf_index=self.find_neighbor(bug,new_lane) \n",
    "        x_b=pb(bug.x,self.L)\n",
    "        x_nl=pb(self.members[new_lane][pb(nf_index+1,len(self.members[new_lane]))].x,self.L)\n",
    "        x_nf=pb(self.members[new_lane][nf_index].x,self.L)\n",
    "        x_ol=pb(self.members[current_lane][pb(i+1,len(self.members[current_lane]))].x,self.L)\n",
    "        x_of=pb(self.members[current_lane][pb(i-1,len(self.members[current_lane]))].x,self.L)\n",
    "\n",
    "        #2) get relevant dx values\n",
    "        #    a) get the current values\n",
    "        dx_nf=min(abs(x_nl-x_nf),self.L-abs(x_nl-x_nf))\n",
    "        dx_b=min(abs(x_ol-x_b),self.L-abs(x_ol-x_b))\n",
    "        dx_of=min(abs(x_b-x_of),self.L-abs(x_b-x_of))\n",
    "        #    b) get the values after the lane switch\n",
    "        dx_bp=min(abs(x_nl-x_b),self.L-abs(x_nl-x_b))\n",
    "        dx_nfp=min(abs(x_b-x_nf),self.L-abs(x_b-x_nf))\n",
    "        dx_ofp=min(abs(x_ol-x_of),self.L-abs(x_ol-x_of))\n",
    "        \n",
    "        #3) get relevant forces\n",
    "        f_current=[bug.force(dx_b)]\n",
    "        f_current.append(self.members[current_lane][pb(i-1,len(self.members[current_lane]))].force(dx_of))\n",
    "        f_current.append(self.members[new_lane][nf_index].force(dx_nf))\n",
    "        \n",
    "        f_new=[bug.force(dx_bp)]\n",
    "        f_new.append(self.members[new_lane][nf_index].force(dx_nfp))\n",
    "        f_new.append(self.members[current_lane][pb(i-1,len(self.members[current_lane]))].force(dx_ofp))\n",
    "        if ((f_current[0]+self.p*(f_current[1]+f_current[2])>1*(f_new[0]+self.p*(f_new[1]+f_new[2]))) and \\\n",
    "            (bug.stopped==0)):\n",
    "            return(True)\n",
    "        return(False)\n",
    "\t\t\t\t\t\t\t\t\n",
    "    def view(self,t):\n",
    "        fig=plt.figure()\n",
    "        plt.xlim(-1,self.L+1)\n",
    "        plt.ylim(-1,2)\n",
    "        line1, =plt.plot(np.arange(self.L),np.zeros(self.L),'k')\n",
    "        a1='ro'\n",
    "        #line2, =plt.plot([b.x for b in self.members[0]],np.zeros(len(self.members[0])),'ro')            \n",
    "        line3, =plt.plot(np.arange(self.L),.5*np.ones(self.L),'k')\n",
    "        #line4, =plt.plot([b.x for b in self.members[1]],.5*np.ones(len(self.members[1])),'bo')\n",
    "        line5, =plt.plot(np.arange(self.L),np.ones(self.L),'k')\n",
    "        #line6, =plt.plot([b.x for b in self.members[2]],np.ones(len(self.members[2])),'go')\n",
    "        for l in range(0,3):\n",
    "            for b in self.members[l]:\n",
    "                plt.plot(b.x,np.array([1])*.5*l,b.laneint)\n",
    "                if(b.stopped==1):\n",
    "                    plt.plot(b.x,np.array([1])*.5*l,'ko')\n",
    "        \n",
    "        \n",
    "        fig.savefig('./images/graph'+str(t)+'.png') #save figures\n",
    "        plt.close(fig)\n",
    "\n",
    "    def find_neighbor(self,bug,new_lane):\n",
    "        x=0;i=0\n",
    "        while(x<bug.x):\n",
    "            try:\n",
    "                x=self.members[new_lane][i].x\n",
    "            except IndexError:\n",
    "                return(i-1)\n",
    "            i+=1\n",
    "        return(i-2)\n",
    "\n",
    " #%%\n",
    "def run():\n",
    "\ta1=0\n",
    "#posn=np.zeros((1,3))\n",
    "#dens2=np.zeros(10000)\n",
    "#phi2=np.zeros(10000)\n",
    "\tfor t in range(10000):\n",
    "\t\tmeanv=my_ants.step()\n",
    "#\t\tif (t>9900):\n",
    "#\ta1=np.c_[my_ants.ids,my_ants.ids*0+t,my_ants.xunp]\n",
    "#\tposn=(np.r_[posn,a1])\n",
    "\t\tmv.append(meanv)\n",
    "#\t\t\tmy_ants.view(t)\n",
    "\n",
    "#\t\tw=np.where((my_ants.state>500) &(my_ants.state<1000))[0]\n",
    "#\t\tdens2[t]=len(w)/500*1000\n",
    "\t\tif t%1000==0:\n",
    "\t\t\tprint(t)\n",
    "#return (posn)\n",
    "\n"
   ]
  },
  {
   "cell_type": "code",
   "execution_count": 13,
   "metadata": {
    "collapsed": false
   },
   "outputs": [
    {
     "name": "stdout",
     "output_type": "stream",
     "text": [
      "0\n",
      "150\n",
      "0\n",
      "1000\n",
      "2000\n",
      "3000\n",
      "4000\n",
      "5000\n",
      "6000\n",
      "7000\n",
      "8000\n",
      "9000\n"
     ]
    }
   ],
   "source": [
    "L=1000\n",
    "rho_a=np.linspace(0.15,.15,1)\n",
    "#phi_a=np.zeros([10,10])\n",
    "#vel_a=np.zeros([10,10])\n",
    "#vb2=np.zeros([15,10000])\n",
    "for j in range(1):\n",
    "    for i,dens in enumerate(rho_a):\n",
    "        print(j)\n",
    "        mv=[]\n",
    "        flowc=int(dens*L)\n",
    "        print(flowc)\n",
    "        stoppedc=0\n",
    "        num_ants=stoppedc+flowc    \n",
    "        my_ants=ants(num_ants=num_ants,politeness=1,flowc=flowc,stoppedc=stoppedc)\n",
    "#\tposn=np.zeros(num_ants)\n",
    "        run()\n",
    "        #phi_a[i,j]=dens*mv[-1]\n",
    "        #vel_a[i,j]=mv[-1]      "
   ]
  },
  {
   "cell_type": "code",
   "execution_count": 3,
   "metadata": {
    "collapsed": false
   },
   "outputs": [
    {
     "ename": "NameError",
     "evalue": "name 'rho_a' is not defined",
     "output_type": "error",
     "traceback": [
      "\u001b[1;31m---------------------------------------------------------------------------\u001b[0m",
      "\u001b[1;31mNameError\u001b[0m                                 Traceback (most recent call last)",
      "\u001b[1;32m<ipython-input-3-5a808487540b>\u001b[0m in \u001b[0;36m<module>\u001b[1;34m()\u001b[0m\n\u001b[1;32m----> 1\u001b[1;33m \u001b[0mrho_vel_phi_stop30car_p1\u001b[0m\u001b[1;33m=\u001b[0m\u001b[0mnp\u001b[0m\u001b[1;33m.\u001b[0m\u001b[0mc_\u001b[0m\u001b[1;33m[\u001b[0m\u001b[0mrho_a\u001b[0m\u001b[1;33m,\u001b[0m\u001b[0mvel_a\u001b[0m\u001b[1;33m,\u001b[0m\u001b[0mphi_a\u001b[0m\u001b[1;33m]\u001b[0m\u001b[1;33m\u001b[0m\u001b[0m\n\u001b[0m\u001b[0;32m      2\u001b[0m \u001b[0mnp\u001b[0m\u001b[1;33m.\u001b[0m\u001b[0msavetxt\u001b[0m\u001b[1;33m(\u001b[0m\u001b[1;34m'rho_vel_phi_stop30car_p1_10iterations.txt'\u001b[0m\u001b[1;33m,\u001b[0m\u001b[0mrho_vel_phi_stop30car_p1\u001b[0m\u001b[1;33m,\u001b[0m \u001b[0mfmt\u001b[0m\u001b[1;33m=\u001b[0m\u001b[1;34m'%3.8f'\u001b[0m\u001b[1;33m)\u001b[0m\u001b[1;33m\u001b[0m\u001b[0m\n",
      "\u001b[1;31mNameError\u001b[0m: name 'rho_a' is not defined"
     ]
    }
   ],
   "source": [
    "rho_vel_phi_stop30car_p1=np.c_[rho_a,vel_a,phi_a]\n",
    "#np.savetxt('rho_vel_phi_stop30car_p1_10iterations.txt',rho_vel_phi_stop30car_p1, fmt='%3.8f')"
   ]
  },
  {
   "cell_type": "code",
   "execution_count": 29,
   "metadata": {
    "collapsed": false
   },
   "outputs": [],
   "source": [
    "#pols talk figs"
   ]
  },
  {
   "cell_type": "code",
   "execution_count": 31,
   "metadata": {
    "collapsed": false
   },
   "outputs": [
    {
     "name": "stderr",
     "output_type": "stream",
     "text": [
      "/home/svivek/anaconda3/lib/python3.5/site-packages/ipykernel/__main__.py:2: RuntimeWarning: divide by zero encountered in true_divide\n",
      "  from ipykernel import kernelapp as app\n",
      "/home/svivek/anaconda3/lib/python3.5/site-packages/ipykernel/__main__.py:2: RuntimeWarning: invalid value encountered in power\n",
      "  from ipykernel import kernelapp as app\n",
      "/home/svivek/anaconda3/lib/python3.5/site-packages/ipykernel/__main__.py:2: RuntimeWarning: invalid value encountered in multiply\n",
      "  from ipykernel import kernelapp as app\n"
     ]
    },
    {
     "data": {
      "image/png": "[encoded data removed]",
      "text/plain": [
       "<matplotlib.figure.Figure at 0x7faa55e5bef0>"
      ]
     },
     "metadata": {},
     "output_type": "display_data"
    }
   ],
   "source": [
    "fig=plt.figure()\n",
    "lth,=plt.plot(rho_ath*1000,rho_ath*1000*29*3.6-np.nan_to_num(rho_ath*1000*(29*3.6)*(1-(4.5/(2*29)))**(-1.5)*(1-1/(2*rho_ath*1000*.029))**(1.5)),label='theory')\n",
    "l0,=plt.plot(rho_vel_phi_stop0car2_p1[:,0]*1000,rho_vel_phi_stop0car2_p1[:,2]*1000*3.6,'o',label='0')\n",
    "#l1,=plt.plot(rho_vel_phi_stop1car2_p1[:,0]*1000,rho_vel_phi_stop1car2_p1[:,2]*1000*3.6,'o',label='1')\n",
    "#l5,=plt.plot(rho_vel_phi_stop5car2_p1[:,0]*1000,phi_a_5sc_mean*1000*3.6,'o',label='5')\n",
    "#plt.errorbar(rho_vel_phi_stop5car2_p1[:,0]*1000,phi_a_5sc_mean*1000*3.6,phi_a_5sc_std*1000*3.6,marker='None',linestyle='None',color='k')\n",
    "#l10,=plt.plot(rho_vel_phi_stop10car2_p1[:,0]*1000,phi_a_10sc_mean*1000*3.6,'o',label='10')\n",
    "#plt.errorbar(rho_vel_phi_stop10car2_p1[:,0]*1000,phi_a_10sc_mean*1000*3.6,phi_a_10sc_std*1000*3.6,marker='None',linestyle='None',color='k')\n",
    "\n",
    "#l20,=plt.plot(rho_vel_phi_stop20car2_p1[:,0]*1000,phi_a_20sc_mean*1000*3.6,'o',label='20')\n",
    "#plt.errorbar(rho_vel_phi_stop20car2_p1[:,0]*1000,phi_a_20sc_mean*1000*3.6,phi_a_20sc_std*1000*3.6,marker='None',linestyle='None',color='k')\n",
    "\n",
    "#l30,=plt.plot(rho_vel_phi_stop30car2_p1[:,0]*1000,phi_a_30sc_mean*1000*3.6,'o',label='30')\n",
    "#plt.errorbar(rho_vel_phi_stop30car2_p1[:,0]*1000,phi_a_30sc_mean*1000*3.6,phi_a_30sc_std*1000*3.6,marker='None',linestyle='None',color='k')\n",
    "\n",
    "#l50,=plt.plot(rho_vel_phi_stop50car2_p1[:,0]*1000,phi_a_50sc_mean*1000*3.6,'o',label='50')\n",
    "#plt.errorbar(rho_vel_phi_stop50car2_p1[:,0]*1000,phi_a_50sc_mean*1000*3.6,phi_a_50sc_std*1000*3.6,marker='None',linestyle='None',color='k')\n",
    "\n",
    "plt.ylim(-10,3000)\n",
    "#plt.xlim(0,200)\n",
    "plt.legend(handles=[l0],loc='best',prop={'size': 9})\n",
    "#plt.legend(handles=[l0,l1,l5,l10,l20,l30,l50,lth],loc='best',prop={'size': 9})\n",
    "plt.xlabel('density(#free cars/km)')\n",
    "plt.ylabel('Flux(#cars/hr/km)')\n",
    "fig.savefig('Flux-density-stopcars_p1-0.jpg',dpi=300)"
   ]
  },
  {
   "cell_type": "code",
   "execution_count": 32,
   "metadata": {
    "collapsed": false
   },
   "outputs": [
    {
     "name": "stderr",
     "output_type": "stream",
     "text": [
      "/home/svivek/anaconda3/lib/python3.5/site-packages/ipykernel/__main__.py:2: RuntimeWarning: divide by zero encountered in true_divide\n",
      "  from ipykernel import kernelapp as app\n",
      "/home/svivek/anaconda3/lib/python3.5/site-packages/ipykernel/__main__.py:2: RuntimeWarning: invalid value encountered in power\n",
      "  from ipykernel import kernelapp as app\n",
      "/home/svivek/anaconda3/lib/python3.5/site-packages/ipykernel/__main__.py:2: RuntimeWarning: invalid value encountered in multiply\n",
      "  from ipykernel import kernelapp as app\n"
     ]
    },
    {
     "data": {
      "image/png": "[encoded data removed]",
      "text/plain": [
       "<matplotlib.figure.Figure at 0x7faa55df70f0>"
      ]
     },
     "metadata": {},
     "output_type": "display_data"
    }
   ],
   "source": [
    "fig=plt.figure()\n",
    "lth,=plt.plot(rho_ath*1000,rho_ath*1000*29*3.6-np.nan_to_num(rho_ath*1000*(29*3.6)*(1-(4.5/(2*29)))**(-1.5)*(1-1/(2*rho_ath*1000*.029))**(1.5)),label='theory')\n",
    "l0,=plt.plot(rho_vel_phi_stop0car2_p1[:,0]*1000,rho_vel_phi_stop0car2_p1[:,2]*1000*3.6,'o',label='0')\n",
    "l1,=plt.plot(rho_vel_phi_stop1car2_p1[:,0]*1000,rho_vel_phi_stop1car2_p1[:,2]*1000*3.6,'o',label='1')\n",
    "#l5,=plt.plot(rho_vel_phi_stop5car2_p1[:,0]*1000,phi_a_5sc_mean*1000*3.6,'o',label='5')\n",
    "#plt.errorbar(rho_vel_phi_stop5car2_p1[:,0]*1000,phi_a_5sc_mean*1000*3.6,phi_a_5sc_std*1000*3.6,marker='None',linestyle='None',color='k')\n",
    "#l10,=plt.plot(rho_vel_phi_stop10car2_p1[:,0]*1000,phi_a_10sc_mean*1000*3.6,'o',label='10')\n",
    "#plt.errorbar(rho_vel_phi_stop10car2_p1[:,0]*1000,phi_a_10sc_mean*1000*3.6,phi_a_10sc_std*1000*3.6,marker='None',linestyle='None',color='k')\n",
    "\n",
    "#l20,=plt.plot(rho_vel_phi_stop20car2_p1[:,0]*1000,phi_a_20sc_mean*1000*3.6,'o',label='20')\n",
    "#plt.errorbar(rho_vel_phi_stop20car2_p1[:,0]*1000,phi_a_20sc_mean*1000*3.6,phi_a_20sc_std*1000*3.6,marker='None',linestyle='None',color='k')\n",
    "\n",
    "#l30,=plt.plot(rho_vel_phi_stop30car2_p1[:,0]*1000,phi_a_30sc_mean*1000*3.6,'o',label='30')\n",
    "#plt.errorbar(rho_vel_phi_stop30car2_p1[:,0]*1000,phi_a_30sc_mean*1000*3.6,phi_a_30sc_std*1000*3.6,marker='None',linestyle='None',color='k')\n",
    "\n",
    "#l50,=plt.plot(rho_vel_phi_stop50car2_p1[:,0]*1000,phi_a_50sc_mean*1000*3.6,'o',label='50')\n",
    "#plt.errorbar(rho_vel_phi_stop50car2_p1[:,0]*1000,phi_a_50sc_mean*1000*3.6,phi_a_50sc_std*1000*3.6,marker='None',linestyle='None',color='k')\n",
    "\n",
    "plt.ylim(-10,3000)\n",
    "#plt.xlim(0,200)\n",
    "plt.legend(handles=[l0,l1],loc='best',prop={'size': 9})\n",
    "#plt.legend(handles=[l0,l1,l5,l10,l20,l30,l50,lth],loc='best',prop={'size': 9})\n",
    "plt.xlabel('density(#free cars/km)')\n",
    "plt.ylabel('Flux(#cars/hr/km)')\n",
    "fig.savefig('Flux-density-stopcars_p1-1.jpg',dpi=300)"
   ]
  },
  {
   "cell_type": "code",
   "execution_count": 33,
   "metadata": {
    "collapsed": false
   },
   "outputs": [
    {
     "name": "stderr",
     "output_type": "stream",
     "text": [
      "/home/svivek/anaconda3/lib/python3.5/site-packages/ipykernel/__main__.py:2: RuntimeWarning: divide by zero encountered in true_divide\n",
      "  from ipykernel import kernelapp as app\n",
      "/home/svivek/anaconda3/lib/python3.5/site-packages/ipykernel/__main__.py:2: RuntimeWarning: invalid value encountered in power\n",
      "  from ipykernel import kernelapp as app\n",
      "/home/svivek/anaconda3/lib/python3.5/site-packages/ipykernel/__main__.py:2: RuntimeWarning: invalid value encountered in multiply\n",
      "  from ipykernel import kernelapp as app\n"
     ]
    },
    {
     "data": {
      "image/png": "[encoded data removed]",
      "text/plain": [
       "<matplotlib.figure.Figure at 0x7faa55d21b38>"
      ]
     },
     "metadata": {},
     "output_type": "display_data"
    }
   ],
   "source": [
    "fig=plt.figure()\n",
    "lth,=plt.plot(rho_ath*1000,rho_ath*1000*29*3.6-np.nan_to_num(rho_ath*1000*(29*3.6)*(1-(4.5/(2*29)))**(-1.5)*(1-1/(2*rho_ath*1000*.029))**(1.5)),label='theory')\n",
    "l0,=plt.plot(rho_vel_phi_stop0car2_p1[:,0]*1000,rho_vel_phi_stop0car2_p1[:,2]*1000*3.6,'o',label='0')\n",
    "l1,=plt.plot(rho_vel_phi_stop1car2_p1[:,0]*1000,rho_vel_phi_stop1car2_p1[:,2]*1000*3.6,'o',label='1')\n",
    "l5,=plt.plot(rho_vel_phi_stop5car2_p1[:,0]*1000,phi_a_5sc_mean*1000*3.6,'o',label='5')\n",
    "plt.errorbar(rho_vel_phi_stop5car2_p1[:,0]*1000,phi_a_5sc_mean*1000*3.6,phi_a_5sc_std*1000*3.6,marker='None',linestyle='None',color='k')\n",
    "#l10,=plt.plot(rho_vel_phi_stop10car2_p1[:,0]*1000,phi_a_10sc_mean*1000*3.6,'o',label='10')\n",
    "#plt.errorbar(rho_vel_phi_stop10car2_p1[:,0]*1000,phi_a_10sc_mean*1000*3.6,phi_a_10sc_std*1000*3.6,marker='None',linestyle='None',color='k')\n",
    "\n",
    "#l20,=plt.plot(rho_vel_phi_stop20car2_p1[:,0]*1000,phi_a_20sc_mean*1000*3.6,'o',label='20')\n",
    "#plt.errorbar(rho_vel_phi_stop20car2_p1[:,0]*1000,phi_a_20sc_mean*1000*3.6,phi_a_20sc_std*1000*3.6,marker='None',linestyle='None',color='k')\n",
    "\n",
    "#l30,=plt.plot(rho_vel_phi_stop30car2_p1[:,0]*1000,phi_a_30sc_mean*1000*3.6,'o',label='30')\n",
    "#plt.errorbar(rho_vel_phi_stop30car2_p1[:,0]*1000,phi_a_30sc_mean*1000*3.6,phi_a_30sc_std*1000*3.6,marker='None',linestyle='None',color='k')\n",
    "\n",
    "#l50,=plt.plot(rho_vel_phi_stop50car2_p1[:,0]*1000,phi_a_50sc_mean*1000*3.6,'o',label='50')\n",
    "#plt.errorbar(rho_vel_phi_stop50car2_p1[:,0]*1000,phi_a_50sc_mean*1000*3.6,phi_a_50sc_std*1000*3.6,marker='None',linestyle='None',color='k')\n",
    "\n",
    "plt.ylim(-10,3000)\n",
    "#plt.xlim(0,200)\n",
    "plt.legend(handles=[l0,l1,l5],loc='best',prop={'size': 9})\n",
    "#plt.legend(handles=[l0,l1,l5,l10,l20,l30,l50,lth],loc='best',prop={'size': 9})\n",
    "plt.xlabel('density(#free cars/km)')\n",
    "plt.ylabel('Flux(#cars/hr/km)')\n",
    "fig.savefig('Flux-density-stopcars_p1-5.jpg',dpi=300)"
   ]
  },
  {
   "cell_type": "code",
   "execution_count": 34,
   "metadata": {
    "collapsed": false
   },
   "outputs": [
    {
     "name": "stderr",
     "output_type": "stream",
     "text": [
      "/home/svivek/anaconda3/lib/python3.5/site-packages/ipykernel/__main__.py:2: RuntimeWarning: divide by zero encountered in true_divide\n",
      "  from ipykernel import kernelapp as app\n",
      "/home/svivek/anaconda3/lib/python3.5/site-packages/ipykernel/__main__.py:2: RuntimeWarning: invalid value encountered in power\n",
      "  from ipykernel import kernelapp as app\n",
      "/home/svivek/anaconda3/lib/python3.5/site-packages/ipykernel/__main__.py:2: RuntimeWarning: invalid value encountered in multiply\n",
      "  from ipykernel import kernelapp as app\n"
     ]
    },
    {
     "data": {
      "image/png": "[encoded data removed]",
      "text/plain": [
       "<matplotlib.figure.Figure at 0x7faa55bd1588>"
      ]
     },
     "metadata": {},
     "output_type": "display_data"
    }
   ],
   "source": [
    "fig=plt.figure()\n",
    "lth,=plt.plot(rho_ath*1000,rho_ath*1000*29*3.6-np.nan_to_num(rho_ath*1000*(29*3.6)*(1-(4.5/(2*29)))**(-1.5)*(1-1/(2*rho_ath*1000*.029))**(1.5)),label='theory')\n",
    "l0,=plt.plot(rho_vel_phi_stop0car2_p1[:,0]*1000,rho_vel_phi_stop0car2_p1[:,2]*1000*3.6,'o',label='0')\n",
    "l1,=plt.plot(rho_vel_phi_stop1car2_p1[:,0]*1000,rho_vel_phi_stop1car2_p1[:,2]*1000*3.6,'o',label='1')\n",
    "l5,=plt.plot(rho_vel_phi_stop5car2_p1[:,0]*1000,phi_a_5sc_mean*1000*3.6,'o',label='5')\n",
    "plt.errorbar(rho_vel_phi_stop5car2_p1[:,0]*1000,phi_a_5sc_mean*1000*3.6,phi_a_5sc_std*1000*3.6,marker='None',linestyle='None',color='k')\n",
    "l10,=plt.plot(rho_vel_phi_stop10car2_p1[:,0]*1000,phi_a_10sc_mean*1000*3.6,'o',label='10')\n",
    "plt.errorbar(rho_vel_phi_stop10car2_p1[:,0]*1000,phi_a_10sc_mean*1000*3.6,phi_a_10sc_std*1000*3.6,marker='None',linestyle='None',color='k')\n",
    "\n",
    "#l20,=plt.plot(rho_vel_phi_stop20car2_p1[:,0]*1000,phi_a_20sc_mean*1000*3.6,'o',label='20')\n",
    "#plt.errorbar(rho_vel_phi_stop20car2_p1[:,0]*1000,phi_a_20sc_mean*1000*3.6,phi_a_20sc_std*1000*3.6,marker='None',linestyle='None',color='k')\n",
    "\n",
    "#l30,=plt.plot(rho_vel_phi_stop30car2_p1[:,0]*1000,phi_a_30sc_mean*1000*3.6,'o',label='30')\n",
    "#plt.errorbar(rho_vel_phi_stop30car2_p1[:,0]*1000,phi_a_30sc_mean*1000*3.6,phi_a_30sc_std*1000*3.6,marker='None',linestyle='None',color='k')\n",
    "\n",
    "#l50,=plt.plot(rho_vel_phi_stop50car2_p1[:,0]*1000,phi_a_50sc_mean*1000*3.6,'o',label='50')\n",
    "#plt.errorbar(rho_vel_phi_stop50car2_p1[:,0]*1000,phi_a_50sc_mean*1000*3.6,phi_a_50sc_std*1000*3.6,marker='None',linestyle='None',color='k')\n",
    "\n",
    "plt.ylim(-10,3000)\n",
    "#plt.xlim(0,200)\n",
    "plt.legend(handles=[l0,l1,l5,l10],loc='best',prop={'size': 9})\n",
    "#plt.legend(handles=[l0,l1,l5,l10,l20,l30,l50,lth],loc='best',prop={'size': 9})\n",
    "plt.xlabel('density(#free cars/km)')\n",
    "plt.ylabel('Flux(#cars/hr/km)')\n",
    "fig.savefig('Flux-density-stopcars_p1-10.jpg',dpi=300)"
   ]
  },
  {
   "cell_type": "code",
   "execution_count": 35,
   "metadata": {
    "collapsed": false
   },
   "outputs": [
    {
     "name": "stderr",
     "output_type": "stream",
     "text": [
      "/home/svivek/anaconda3/lib/python3.5/site-packages/ipykernel/__main__.py:2: RuntimeWarning: divide by zero encountered in true_divide\n",
      "  from ipykernel import kernelapp as app\n",
      "/home/svivek/anaconda3/lib/python3.5/site-packages/ipykernel/__main__.py:2: RuntimeWarning: invalid value encountered in power\n",
      "  from ipykernel import kernelapp as app\n",
      "/home/svivek/anaconda3/lib/python3.5/site-packages/ipykernel/__main__.py:2: RuntimeWarning: invalid value encountered in multiply\n",
      "  from ipykernel import kernelapp as app\n"
     ]
    },
    {
     "data": {
      "image/png": "[encoded data removed]",
      "text/plain": [
       "<matplotlib.figure.Figure at 0x7faa55d06c18>"
      ]
     },
     "metadata": {},
     "output_type": "display_data"
    }
   ],
   "source": [
    "fig=plt.figure()\n",
    "lth,=plt.plot(rho_ath*1000,rho_ath*1000*29*3.6-np.nan_to_num(rho_ath*1000*(29*3.6)*(1-(4.5/(2*29)))**(-1.5)*(1-1/(2*rho_ath*1000*.029))**(1.5)),label='theory')\n",
    "l0,=plt.plot(rho_vel_phi_stop0car2_p1[:,0]*1000,rho_vel_phi_stop0car2_p1[:,2]*1000*3.6,'o',label='0')\n",
    "l1,=plt.plot(rho_vel_phi_stop1car2_p1[:,0]*1000,rho_vel_phi_stop1car2_p1[:,2]*1000*3.6,'o',label='1')\n",
    "l5,=plt.plot(rho_vel_phi_stop5car2_p1[:,0]*1000,phi_a_5sc_mean*1000*3.6,'o',label='5')\n",
    "plt.errorbar(rho_vel_phi_stop5car2_p1[:,0]*1000,phi_a_5sc_mean*1000*3.6,phi_a_5sc_std*1000*3.6,marker='None',linestyle='None',color='k')\n",
    "l10,=plt.plot(rho_vel_phi_stop10car2_p1[:,0]*1000,phi_a_10sc_mean*1000*3.6,'o',label='10')\n",
    "plt.errorbar(rho_vel_phi_stop10car2_p1[:,0]*1000,phi_a_10sc_mean*1000*3.6,phi_a_10sc_std*1000*3.6,marker='None',linestyle='None',color='k')\n",
    "\n",
    "l20,=plt.plot(rho_vel_phi_stop20car2_p1[:,0]*1000,phi_a_20sc_mean*1000*3.6,'o',label='20')\n",
    "plt.errorbar(rho_vel_phi_stop20car2_p1[:,0]*1000,phi_a_20sc_mean*1000*3.6,phi_a_20sc_std*1000*3.6,marker='None',linestyle='None',color='k')\n",
    "\n",
    "#l30,=plt.plot(rho_vel_phi_stop30car2_p1[:,0]*1000,phi_a_30sc_mean*1000*3.6,'o',label='30')\n",
    "#plt.errorbar(rho_vel_phi_stop30car2_p1[:,0]*1000,phi_a_30sc_mean*1000*3.6,phi_a_30sc_std*1000*3.6,marker='None',linestyle='None',color='k')\n",
    "\n",
    "#l50,=plt.plot(rho_vel_phi_stop50car2_p1[:,0]*1000,phi_a_50sc_mean*1000*3.6,'o',label='50')\n",
    "#plt.errorbar(rho_vel_phi_stop50car2_p1[:,0]*1000,phi_a_50sc_mean*1000*3.6,phi_a_50sc_std*1000*3.6,marker='None',linestyle='None',color='k')\n",
    "\n",
    "plt.ylim(-10,3000)\n",
    "#plt.xlim(0,200)\n",
    "plt.legend(handles=[l0,l1,l5,l10,l20],loc='best',prop={'size': 9})\n",
    "#plt.legend(handles=[l0,l1,l5,l10,l20,l30,l50,lth],loc='best',prop={'size': 9})\n",
    "plt.xlabel('density(#free cars/km)')\n",
    "plt.ylabel('Flux(#cars/hr/km)')\n",
    "fig.savefig('Flux-density-stopcars_p1-20.jpg',dpi=300)"
   ]
  },
  {
   "cell_type": "code",
   "execution_count": 36,
   "metadata": {
    "collapsed": false
   },
   "outputs": [
    {
     "name": "stderr",
     "output_type": "stream",
     "text": [
      "/home/svivek/anaconda3/lib/python3.5/site-packages/ipykernel/__main__.py:2: RuntimeWarning: divide by zero encountered in true_divide\n",
      "  from ipykernel import kernelapp as app\n",
      "/home/svivek/anaconda3/lib/python3.5/site-packages/ipykernel/__main__.py:2: RuntimeWarning: invalid value encountered in power\n",
      "  from ipykernel import kernelapp as app\n",
      "/home/svivek/anaconda3/lib/python3.5/site-packages/ipykernel/__main__.py:2: RuntimeWarning: invalid value encountered in multiply\n",
      "  from ipykernel import kernelapp as app\n"
     ]
    },
    {
     "data": {
      "image/png": "[encoded data removed]",
      "text/plain": [
       "<matplotlib.figure.Figure at 0x7faa55dff630>"
      ]
     },
     "metadata": {},
     "output_type": "display_data"
    }
   ],
   "source": [
    "fig=plt.figure()\n",
    "lth,=plt.plot(rho_ath*1000,rho_ath*1000*29*3.6-np.nan_to_num(rho_ath*1000*(29*3.6)*(1-(4.5/(2*29)))**(-1.5)*(1-1/(2*rho_ath*1000*.029))**(1.5)),label='theory')\n",
    "l0,=plt.plot(rho_vel_phi_stop0car2_p1[:,0]*1000,rho_vel_phi_stop0car2_p1[:,2]*1000*3.6,'o',label='0')\n",
    "l1,=plt.plot(rho_vel_phi_stop1car2_p1[:,0]*1000,rho_vel_phi_stop1car2_p1[:,2]*1000*3.6,'o',label='1')\n",
    "l5,=plt.plot(rho_vel_phi_stop5car2_p1[:,0]*1000,phi_a_5sc_mean*1000*3.6,'o',label='5')\n",
    "plt.errorbar(rho_vel_phi_stop5car2_p1[:,0]*1000,phi_a_5sc_mean*1000*3.6,phi_a_5sc_std*1000*3.6,marker='None',linestyle='None',color='k')\n",
    "l10,=plt.plot(rho_vel_phi_stop10car2_p1[:,0]*1000,phi_a_10sc_mean*1000*3.6,'o',label='10')\n",
    "plt.errorbar(rho_vel_phi_stop10car2_p1[:,0]*1000,phi_a_10sc_mean*1000*3.6,phi_a_10sc_std*1000*3.6,marker='None',linestyle='None',color='k')\n",
    "\n",
    "l20,=plt.plot(rho_vel_phi_stop20car2_p1[:,0]*1000,phi_a_20sc_mean*1000*3.6,'o',label='20')\n",
    "plt.errorbar(rho_vel_phi_stop20car2_p1[:,0]*1000,phi_a_20sc_mean*1000*3.6,phi_a_20sc_std*1000*3.6,marker='None',linestyle='None',color='k')\n",
    "\n",
    "l30,=plt.plot(rho_vel_phi_stop30car2_p1[:,0]*1000,phi_a_30sc_mean*1000*3.6,'o',label='30')\n",
    "plt.errorbar(rho_vel_phi_stop30car2_p1[:,0]*1000,phi_a_30sc_mean*1000*3.6,phi_a_30sc_std*1000*3.6,marker='None',linestyle='None',color='k')\n",
    "\n",
    "#l50,=plt.plot(rho_vel_phi_stop50car2_p1[:,0]*1000,phi_a_50sc_mean*1000*3.6,'o',label='50')\n",
    "#plt.errorbar(rho_vel_phi_stop50car2_p1[:,0]*1000,phi_a_50sc_mean*1000*3.6,phi_a_50sc_std*1000*3.6,marker='None',linestyle='None',color='k')\n",
    "\n",
    "plt.ylim(-10,3000)\n",
    "#plt.xlim(0,200)\n",
    "plt.legend(handles=[l0,l1,l5,l10,l20,l30],loc='best',prop={'size': 9})\n",
    "#plt.legend(handles=[l0,l1,l5,l10,l20,l30,l50,lth],loc='best',prop={'size': 9})\n",
    "plt.xlabel('density(#free cars/km)')\n",
    "plt.ylabel('Flux(#cars/hr/km)')\n",
    "fig.savefig('Flux-density-stopcars_p1-30.jpg',dpi=300)"
   ]
  },
  {
   "cell_type": "code",
   "execution_count": 37,
   "metadata": {
    "collapsed": false
   },
   "outputs": [
    {
     "name": "stderr",
     "output_type": "stream",
     "text": [
      "/home/svivek/anaconda3/lib/python3.5/site-packages/ipykernel/__main__.py:2: RuntimeWarning: divide by zero encountered in true_divide\n",
      "  from ipykernel import kernelapp as app\n",
      "/home/svivek/anaconda3/lib/python3.5/site-packages/ipykernel/__main__.py:2: RuntimeWarning: invalid value encountered in power\n",
      "  from ipykernel import kernelapp as app\n",
      "/home/svivek/anaconda3/lib/python3.5/site-packages/ipykernel/__main__.py:2: RuntimeWarning: invalid value encountered in multiply\n",
      "  from ipykernel import kernelapp as app\n"
     ]
    },
    {
     "data": {
      "image/png": "[encoded data removed]",
      "text/plain": [
       "<matplotlib.figure.Figure at 0x7faa5604fda0>"
      ]
     },
     "metadata": {},
     "output_type": "display_data"
    }
   ],
   "source": [
    "fig=plt.figure()\n",
    "lth,=plt.plot(rho_ath*1000,rho_ath*1000*29*3.6-np.nan_to_num(rho_ath*1000*(29*3.6)*(1-(4.5/(2*29)))**(-1.5)*(1-1/(2*rho_ath*1000*.029))**(1.5)),label='theory')\n",
    "l0,=plt.plot(rho_vel_phi_stop0car2_p1[:,0]*1000,rho_vel_phi_stop0car2_p1[:,2]*1000*3.6,'o',label='0')\n",
    "l1,=plt.plot(rho_vel_phi_stop1car2_p1[:,0]*1000,rho_vel_phi_stop1car2_p1[:,2]*1000*3.6,'o',label='1')\n",
    "l5,=plt.plot(rho_vel_phi_stop5car2_p1[:,0]*1000,phi_a_5sc_mean*1000*3.6,'o',label='5')\n",
    "plt.errorbar(rho_vel_phi_stop5car2_p1[:,0]*1000,phi_a_5sc_mean*1000*3.6,phi_a_5sc_std*1000*3.6,marker='None',linestyle='None',color='k')\n",
    "l10,=plt.plot(rho_vel_phi_stop10car2_p1[:,0]*1000,phi_a_10sc_mean*1000*3.6,'o',label='10')\n",
    "plt.errorbar(rho_vel_phi_stop10car2_p1[:,0]*1000,phi_a_10sc_mean*1000*3.6,phi_a_10sc_std*1000*3.6,marker='None',linestyle='None',color='k')\n",
    "\n",
    "l20,=plt.plot(rho_vel_phi_stop20car2_p1[:,0]*1000,phi_a_20sc_mean*1000*3.6,'o',label='20')\n",
    "plt.errorbar(rho_vel_phi_stop20car2_p1[:,0]*1000,phi_a_20sc_mean*1000*3.6,phi_a_20sc_std*1000*3.6,marker='None',linestyle='None',color='k')\n",
    "\n",
    "l30,=plt.plot(rho_vel_phi_stop30car2_p1[:,0]*1000,phi_a_30sc_mean*1000*3.6,'o',label='30')\n",
    "plt.errorbar(rho_vel_phi_stop30car2_p1[:,0]*1000,phi_a_30sc_mean*1000*3.6,phi_a_30sc_std*1000*3.6,marker='None',linestyle='None',color='k')\n",
    "\n",
    "l50,=plt.plot(rho_vel_phi_stop50car2_p1[:,0]*1000,phi_a_50sc_mean*1000*3.6,'o',label='50')\n",
    "plt.errorbar(rho_vel_phi_stop50car2_p1[:,0]*1000,phi_a_50sc_mean*1000*3.6,phi_a_50sc_std*1000*3.6,marker='None',linestyle='None',color='k')\n",
    "\n",
    "plt.ylim(-10,3000)\n",
    "#plt.xlim(0,200)\n",
    "plt.legend(handles=[l0,l1,l5,l10,l20,l30],loc='best',prop={'size': 9})\n",
    "#plt.legend(handles=[l0,l1,l5,l10,l20,l30,l50,lth],loc='best',prop={'size': 9})\n",
    "plt.xlabel('density(#free cars/km)')\n",
    "plt.ylabel('Flux(#cars/hr/km)')\n",
    "fig.savefig('Flux-density-stopcars_p1-50.jpg',dpi=300)"
   ]
  },
  {
   "cell_type": "code",
   "execution_count": 2,
   "metadata": {
    "collapsed": false
   },
   "outputs": [],
   "source": [
    "#matching Jesse's formula"
   ]
  },
  {
   "cell_type": "code",
   "execution_count": 3,
   "metadata": {
    "collapsed": false
   },
   "outputs": [
    {
     "data": {
      "text/plain": [
       "666.6666666666667"
      ]
     },
     "execution_count": 3,
     "metadata": {},
     "output_type": "execute_result"
    }
   ],
   "source": [
    "1000/4.5*3"
   ]
  },
  {
   "cell_type": "code",
   "execution_count": 13,
   "metadata": {
    "collapsed": true
   },
   "outputs": [],
   "source": [
    "na=np.linspace(0,150,100)\n",
    "L=1000\n",
    "rhoa=na/(3*L)\n",
    "r=4.5"
   ]
  },
  {
   "cell_type": "code",
   "execution_count": 21,
   "metadata": {
    "collapsed": false
   },
   "outputs": [
    {
     "data": {
      "text/plain": [
       "(0, 60)"
      ]
     },
     "execution_count": 21,
     "metadata": {},
     "output_type": "execute_result"
    },
    {
     "data": {
      "image/png": "[encoded data removed]",
      "text/plain": [
       "<matplotlib.figure.Figure at 0x7f65109009e8>"
      ]
     },
     "metadata": {},
     "output_type": "display_data"
    }
   ],
   "source": [
    "fig=plt.figure()\n",
    "na=np.linspace(0,150,100)\n",
    "L=1000\n",
    "rhoa=na/(3*L)\n",
    "r=4.5\n",
    "plt.plot(na/3,1-(1-rhoa*r)**(rhoa*L))\n",
    "plt.plot(rho_sc,prob,'ro')\n",
    "plt.ylim(0,1.1)\n",
    "plt.xlim(0,60)\n",
    "plt.xlabel('density(#stopped cars/km)')\n",
    "plt.ylabel('Jam probability')\n",
    "plt.xlim(0,60)\n",
    "#fig.savefig('Percolation-density-jesseformula.jpg',dpi=300)"
   ]
  },
  {
   "cell_type": "code",
   "execution_count": 53,
   "metadata": {
    "collapsed": false
   },
   "outputs": [
    {
     "name": "stdout",
     "output_type": "stream",
     "text": [
      "0\n",
      "1\n",
      "2\n",
      "3\n",
      "4\n",
      "5\n",
      "6\n",
      "7\n",
      "8\n",
      "9\n",
      "10\n",
      "11\n",
      "12\n",
      "13\n",
      "14\n",
      "15\n",
      "16\n",
      "17\n",
      "18\n",
      "19\n",
      "20\n",
      "21\n",
      "22\n",
      "23\n",
      "24\n",
      "25\n",
      "26\n",
      "27\n",
      "28\n",
      "29\n",
      "30\n",
      "31\n",
      "32\n",
      "33\n",
      "34\n",
      "35\n",
      "36\n",
      "37\n",
      "38\n",
      "39\n",
      "40\n",
      "41\n",
      "42\n",
      "43\n",
      "44\n",
      "45\n",
      "46\n",
      "47\n",
      "48\n",
      "49\n",
      "50\n",
      "51\n",
      "52\n",
      "53\n",
      "54\n",
      "55\n",
      "56\n",
      "57\n",
      "58\n",
      "59\n",
      "60\n",
      "61\n",
      "62\n",
      "63\n",
      "64\n",
      "65\n",
      "66\n",
      "67\n",
      "68\n",
      "69\n",
      "70\n",
      "71\n",
      "72\n",
      "73\n",
      "74\n",
      "75\n",
      "76\n",
      "77\n",
      "78\n",
      "79\n",
      "80\n",
      "81\n",
      "82\n",
      "83\n",
      "84\n",
      "85\n",
      "86\n",
      "87\n",
      "88\n",
      "89\n",
      "90\n",
      "91\n",
      "92\n",
      "93\n",
      "94\n",
      "95\n",
      "96\n",
      "97\n",
      "98\n",
      "99\n",
      "100\n",
      "101\n",
      "102\n",
      "103\n",
      "104\n",
      "105\n",
      "106\n",
      "107\n",
      "108\n",
      "109\n",
      "110\n",
      "111\n",
      "112\n",
      "113\n",
      "114\n",
      "115\n",
      "116\n",
      "117\n",
      "118\n",
      "119\n",
      "120\n",
      "121\n",
      "122\n",
      "123\n",
      "124\n",
      "125\n",
      "126\n",
      "127\n",
      "128\n",
      "129\n",
      "130\n",
      "131\n",
      "132\n",
      "133\n",
      "134\n",
      "135\n",
      "136\n",
      "137\n",
      "138\n",
      "139\n",
      "140\n",
      "141\n",
      "142\n",
      "143\n",
      "144\n",
      "145\n",
      "146\n",
      "147\n",
      "148\n",
      "149\n",
      "150\n",
      "151\n",
      "152\n",
      "153\n",
      "154\n",
      "155\n",
      "156\n",
      "157\n",
      "158\n",
      "159\n",
      "160\n",
      "161\n",
      "162\n",
      "163\n",
      "164\n",
      "165\n",
      "166\n",
      "167\n",
      "168\n",
      "169\n",
      "170\n",
      "171\n",
      "172\n",
      "173\n",
      "174\n",
      "175\n",
      "176\n",
      "177\n",
      "178\n",
      "179\n",
      "180\n",
      "181\n",
      "182\n",
      "183\n",
      "184\n",
      "185\n",
      "186\n",
      "187\n",
      "188\n",
      "189\n",
      "190\n",
      "191\n",
      "192\n",
      "193\n",
      "194\n",
      "195\n",
      "196\n",
      "197\n",
      "198\n",
      "199\n",
      "200\n",
      "201\n",
      "202\n",
      "203\n",
      "204\n",
      "205\n",
      "206\n",
      "207\n",
      "208\n",
      "209\n",
      "210\n",
      "211\n",
      "212\n",
      "213\n",
      "214\n",
      "215\n",
      "216\n",
      "217\n",
      "218\n",
      "219\n",
      "220\n",
      "221\n",
      "222\n",
      "223\n",
      "224\n",
      "225\n",
      "226\n",
      "227\n",
      "228\n",
      "229\n",
      "230\n",
      "231\n",
      "232\n",
      "233\n",
      "234\n",
      "235\n",
      "236\n",
      "237\n",
      "238\n",
      "239\n",
      "240\n",
      "241\n",
      "242\n",
      "243\n",
      "244\n",
      "245\n",
      "246\n",
      "247\n",
      "248\n",
      "249\n",
      "250\n",
      "251\n",
      "252\n",
      "253\n",
      "254\n",
      "255\n",
      "256\n",
      "257\n",
      "258\n",
      "259\n",
      "260\n",
      "261\n",
      "262\n",
      "263\n",
      "264\n",
      "265\n",
      "266\n",
      "267\n",
      "268\n",
      "269\n",
      "270\n",
      "271\n",
      "272\n",
      "273\n",
      "274\n",
      "275\n",
      "276\n",
      "277\n",
      "278\n",
      "279\n",
      "280\n",
      "281\n",
      "282\n",
      "283\n",
      "284\n",
      "285\n",
      "286\n",
      "287\n",
      "288\n",
      "289\n",
      "290\n",
      "291\n",
      "292\n",
      "293\n",
      "294\n",
      "295\n",
      "296\n",
      "297\n",
      "298\n",
      "299\n",
      "300\n",
      "301\n",
      "302\n",
      "303\n",
      "304\n",
      "305\n",
      "306\n",
      "307\n",
      "308\n",
      "309\n",
      "310\n",
      "311\n",
      "312\n",
      "313\n",
      "314\n",
      "315\n",
      "316\n",
      "317\n",
      "318\n",
      "319\n",
      "320\n",
      "321\n",
      "322\n",
      "323\n",
      "324\n",
      "325\n",
      "326\n",
      "327\n",
      "328\n",
      "329\n",
      "330\n",
      "331\n",
      "332\n",
      "333\n",
      "334\n",
      "335\n",
      "336\n",
      "337\n",
      "338\n",
      "339\n",
      "340\n",
      "341\n",
      "342\n",
      "343\n",
      "344\n",
      "345\n",
      "346\n",
      "347\n",
      "348\n",
      "349\n",
      "350\n",
      "351\n",
      "352\n",
      "353\n",
      "354\n",
      "355\n",
      "356\n",
      "357\n",
      "358\n",
      "359\n",
      "360\n",
      "361\n",
      "362\n",
      "363\n",
      "364\n",
      "365\n",
      "366\n",
      "367\n",
      "368\n",
      "369\n",
      "370\n",
      "371\n",
      "372\n",
      "373\n",
      "374\n",
      "375\n",
      "376\n",
      "377\n",
      "378\n",
      "379\n",
      "380\n",
      "381\n",
      "382\n",
      "383\n",
      "384\n",
      "385\n",
      "386\n",
      "387\n",
      "388\n",
      "389\n",
      "390\n",
      "391\n",
      "392\n",
      "393\n",
      "394\n",
      "395\n",
      "396\n",
      "397\n",
      "398\n",
      "399\n",
      "400\n",
      "401\n",
      "402\n",
      "403\n",
      "404\n",
      "405\n",
      "406\n",
      "407\n",
      "408\n",
      "409\n",
      "410\n",
      "411\n",
      "412\n",
      "413\n",
      "414\n",
      "415\n",
      "416\n",
      "417\n",
      "418\n",
      "419\n",
      "420\n",
      "421\n",
      "422\n",
      "423\n",
      "424\n",
      "425\n",
      "426\n",
      "427\n",
      "428\n",
      "429\n",
      "430\n",
      "431\n",
      "432\n",
      "433\n",
      "434\n",
      "435\n",
      "436\n",
      "437\n",
      "438\n",
      "439\n",
      "440\n",
      "441\n",
      "442\n",
      "443\n",
      "444\n",
      "445\n",
      "446\n",
      "447\n",
      "448\n",
      "449\n",
      "450\n",
      "451\n",
      "452\n",
      "453\n",
      "454\n",
      "455\n",
      "456\n",
      "457\n",
      "458\n",
      "459\n",
      "460\n",
      "461\n",
      "462\n",
      "463\n",
      "464\n",
      "465\n",
      "466\n",
      "467\n",
      "468\n",
      "469\n",
      "470\n",
      "471\n",
      "472\n",
      "473\n",
      "474\n",
      "475\n",
      "476\n",
      "477\n",
      "478\n",
      "479\n",
      "480\n",
      "481\n",
      "482\n",
      "483\n",
      "484\n",
      "485\n",
      "486\n",
      "487\n",
      "488\n",
      "489\n",
      "490\n",
      "491\n",
      "492\n",
      "493\n",
      "494\n",
      "495\n",
      "496\n",
      "497\n",
      "498\n",
      "499\n",
      "500\n",
      "501\n",
      "502\n",
      "503\n",
      "504\n",
      "505\n",
      "506\n",
      "507\n",
      "508\n",
      "509\n",
      "510\n",
      "511\n",
      "512\n",
      "513\n",
      "514\n",
      "515\n",
      "516\n",
      "517\n",
      "518\n",
      "519\n",
      "520\n",
      "521\n",
      "522\n",
      "523\n",
      "524\n",
      "525\n",
      "526\n",
      "527\n",
      "528\n",
      "529\n",
      "530\n",
      "531\n",
      "532\n",
      "533\n",
      "534\n",
      "535\n",
      "536\n",
      "537\n",
      "538\n",
      "539\n",
      "540\n",
      "541\n",
      "542\n",
      "543\n",
      "544\n",
      "545\n",
      "546\n",
      "547\n",
      "548\n",
      "549\n",
      "550\n",
      "551\n",
      "552\n",
      "553\n",
      "554\n",
      "555\n",
      "556\n",
      "557\n",
      "558\n",
      "559\n",
      "560\n",
      "561\n",
      "562\n",
      "563\n",
      "564\n",
      "565\n",
      "566\n",
      "567\n",
      "568\n",
      "569\n",
      "570\n",
      "571\n",
      "572\n",
      "573\n",
      "574\n",
      "575\n",
      "576\n",
      "577\n",
      "578\n",
      "579\n",
      "580\n",
      "581\n",
      "582\n",
      "583\n",
      "584\n",
      "585\n",
      "586\n",
      "587\n",
      "588\n",
      "589\n",
      "590\n",
      "591\n",
      "592\n",
      "593\n",
      "594\n",
      "595\n",
      "596\n",
      "597\n",
      "598\n",
      "599\n",
      "600\n",
      "601\n",
      "602\n",
      "603\n",
      "604\n",
      "605\n",
      "606\n",
      "607\n",
      "608\n",
      "609\n",
      "610\n",
      "611\n",
      "612\n",
      "613\n",
      "614\n",
      "615\n",
      "616\n",
      "617\n",
      "618\n",
      "619\n",
      "620\n",
      "621\n",
      "622\n",
      "623\n",
      "624\n",
      "625\n",
      "626\n",
      "627\n",
      "628\n",
      "629\n",
      "630\n",
      "631\n",
      "632\n",
      "633\n",
      "634\n",
      "635\n",
      "636\n",
      "637\n",
      "638\n",
      "639\n",
      "640\n",
      "641\n",
      "642\n",
      "643\n",
      "644\n",
      "645\n",
      "646\n",
      "647\n",
      "648\n",
      "649\n",
      "650\n",
      "651\n",
      "652\n",
      "653\n",
      "654\n",
      "655\n",
      "656\n",
      "657\n",
      "658\n",
      "659\n",
      "660\n",
      "661\n",
      "662\n",
      "663\n",
      "664\n",
      "665\n"
     ]
    }
   ],
   "source": [
    "N = 222;\n",
    "ell = 3;\n",
    "road = np.zeros([1, N*ell]);\n",
    "\n",
    "\n",
    "numTries = 500;\n",
    "\n",
    "\n",
    "counts = np.zeros([N*ell, numTries]);\n",
    "\n",
    "\n",
    "\n",
    "for i in range(0,(ell*N)):\n",
    "    for j in range(0,numTries):\n",
    "        road = np.zeros(N*ell);\n",
    "        road[:i] = np.ones(i);#road[0:i] = np.ones([1,i]);\n",
    "        sh=np.arange(len(road))\n",
    "        np.random.shuffle(sh)\n",
    "        road=road[sh]\n",
    "        road =road.reshape((N, ell));\n",
    "        counts[i,j] = sum(np.sum(road,axis=1) == ell ) > 0;\n",
    "        #print(sum(np.sum(road,axis=1) == ell ))\n",
    "    print(i)\n",
    "    \n",
    "#end\n"
   ]
  },
  {
   "cell_type": "code",
   "execution_count": 30,
   "metadata": {
    "collapsed": false
   },
   "outputs": [
    {
     "data": {
      "text/plain": [
       "(0, 60)"
      ]
     },
     "execution_count": 30,
     "metadata": {},
     "output_type": "execute_result"
    },
    {
     "data": {
      "image/png": "[encoded data removed]",
      "text/plain": [
       "<matplotlib.figure.Figure at 0x7f1db09f66a0>"
      ]
     },
     "metadata": {},
     "output_type": "display_data"
    }
   ],
   "source": [
    "na=np.linspace(0,150,100)\n",
    "L=1000\n",
    "rhoa=na/(2*L)\n",
    "r=4.5\n",
    "plt.plot(na/2,1-(1-rhoa*r)**(rhoa*L))\n",
    "Na = np.linspace(0,ell*N,ell*N)\n",
    "#fig=plt.figure()\n",
    "#plt.plot(rho_sc,prob,'ro')\n",
    "plt.plot(Na/ell, np.sum(counts,axis=1)/numTries)\n",
    "plt.xlim(0,60)"
   ]
  },
  {
   "cell_type": "code",
   "execution_count": 46,
   "metadata": {
    "collapsed": false
   },
   "outputs": [
    {
     "data": {
      "text/plain": [
       "[<matplotlib.lines.Line2D at 0x7f1db04baef0>]"
      ]
     },
     "execution_count": 46,
     "metadata": {},
     "output_type": "execute_result"
    },
    {
     "data": {
      "image/png": "[encoded data removed]",
      "text/plain": [
       "<matplotlib.figure.Figure at 0x7f1db050c5c0>"
      ]
     },
     "metadata": {},
     "output_type": "display_data"
    }
   ],
   "source": [
    "na=np.linspace(0,150,100)\n",
    "L=1000\n",
    "rhoa=na/(3*L)\n",
    "r=4.5\n",
    "plt.plot(na/3,1-(1-rhoa*r)**(rhoa*L))\n",
    "Na = np.linspace(0,ell*N,ell*N)\n",
    "#fig=plt.figure()\n",
    "#plt.plot(rho_sc,prob,'ro')\n",
    "plt.plot(Na/ell, np.sum(counts,axis=1)/numTries)\n",
    "#plt.xlim(0,60)"
   ]
  },
  {
   "cell_type": "code",
   "execution_count": 45,
   "metadata": {
    "collapsed": false
   },
   "outputs": [
    {
     "data": {
      "text/plain": [
       "[<matplotlib.lines.Line2D at 0x7f1db04dae10>]"
      ]
     },
     "execution_count": 45,
     "metadata": {},
     "output_type": "execute_result"
    },
    {
     "data": {
      "image/png": "[encoded data removed]",
      "text/plain": [
       "<matplotlib.figure.Figure at 0x7f1db0593048>"
      ]
     },
     "metadata": {},
     "output_type": "display_data"
    }
   ],
   "source": [
    "plt.plot(Na/ell, np.sum(counts,axis=1)/numTries)\n"
   ]
  },
  {
   "cell_type": "code",
   "execution_count": 81,
   "metadata": {
    "collapsed": false
   },
   "outputs": [
    {
     "data": {
      "image/png": "[encoded data removed]",
      "text/plain": [
       "<matplotlib.figure.Figure at 0x7f1daf89a5c0>"
      ]
     },
     "metadata": {},
     "output_type": "display_data"
    }
   ],
   "source": [
    "Na = np.linspace(0,ell*N,ell*N)\n",
    "fig=plt.figure()\n",
    "plt.plot(rho_sc,prob,'ro')\n",
    "plt.plot(Na/ell, np.sum(counts,axis=1)/numTries)\n",
    "#plt.xlim(0,60)\n",
    "#plt.ylim(0,1.1)\n",
    "plt.xlim(0,60)\n",
    "plt.xlabel('density(#stopped cars/km)')\n",
    "plt.ylabel('0 flux probability')\n",
    "plt.xlim(0,60)\n",
    "fig.savefig('Percolation-density-jessepermu.jpg',dpi=300)\n"
   ]
  },
  {
   "cell_type": "code",
   "execution_count": 51,
   "metadata": {
    "collapsed": false
   },
   "outputs": [],
   "source": [
    "import numpy as np\n",
    "from matplotlib import pyplot as plt\n",
    "from scipy.misc import comb as C #C gives \"N choose k\"\n",
    "\n",
    "ell=3 #number of lanes\n",
    "L=1000 #length of lane\n",
    "r=4.5  #length of grid site\n",
    "\n",
    "### useful functions, binomial distribution b, and its cumulative distribution F ###\n",
    "def b(l,p,i):\n",
    "    return(C(i,l,exact=False)*(p**l)*((1-p)**(i-l)))\n",
    "    \n",
    "def F(l,p,i):\n",
    "    b_list=[b(j,p,i) for j in range(l)]\n",
    "    return(sum(b_list))\n",
    "    \n",
    "### prob that NO column has attained l successes is F(l,p,i)^(Ncols)\n",
    "P_blocked=[1-F(ell,2*r/L,i)**(L/(r)) for i in range(int(L/(r)))]"
   ]
  },
  {
   "cell_type": "code",
   "execution_count": 112,
   "metadata": {
    "collapsed": false
   },
   "outputs": [
    {
     "data": {
      "text/plain": [
       "<matplotlib.text.Text at 0x7f67e61ec908>"
      ]
     },
     "execution_count": 112,
     "metadata": {},
     "output_type": "execute_result"
    },
    {
     "data": {
      "image/png": "[encoded data removed]",
      "text/plain": [
       "<matplotlib.figure.Figure at 0x7f67e6eea358>"
      ]
     },
     "metadata": {},
     "output_type": "display_data"
    }
   ],
   "source": [
    "Na = np.linspace(0,ell*N,ell*N)\n",
    "#plt.plot(P_blocked)\n",
    "#plt.plot(Na/ell, np.sum(counts,axis=1)/numTries)\n",
    "\n",
    "#fig=plt.figure()\n",
    "plt.plot(rho_sc,prob,'ro')\n",
    "plt.xlim(0,60)\n",
    "#Na = np.linspace(0,ell*N,ell*N)\n",
    "#r1=4.5\n",
    "#r2=9\n",
    "r=1.\n",
    "plt.plot(Na/ell, np.sum(counts,axis=1)/numTries)\n",
    "plt.plot(x,1-((1-4.5/1000)**(2*x*x)))\n",
    "\n",
    "5#plt.plot(Na/ell, ((r/L*Na/ell)*(r/L*Na/ell))**(Na/ell))\n",
    "#plt.plot(na/ell,1-(1-rhoa*r)**(rhoa*L))\n",
    "#plt.plot([1-(((1)*(1-1*9/L)**(2*i))**(i)) for i in range(int(L/r))])\n",
    "plt.xlabel('density(#stopped cars/km/lane)')\n",
    "plt.ylabel('0 flux probability')\n",
    "#fig.savefig('Percolation-density-David.jpg',dpi=300)\n"
   ]
  },
  {
   "cell_type": "code",
   "execution_count": 116,
   "metadata": {
    "collapsed": false
   },
   "outputs": [
    {
     "data": {
      "text/plain": [
       "(0, 60)"
      ]
     },
     "execution_count": 116,
     "metadata": {},
     "output_type": "execute_result"
    },
    {
     "data": {
      "image/png": "[encoded data removed]",
      "text/plain": [
       "<matplotlib.figure.Figure at 0x7f67e8a67b70>"
      ]
     },
     "metadata": {},
     "output_type": "display_data"
    }
   ],
   "source": [
    "x=Na/ell\n",
    "plt.plot(x,1-((1-2*4.5/1000)**(2*x*x)))\n",
    "plt.xlim(0,60)"
   ]
  },
  {
   "cell_type": "code",
   "execution_count": 76,
   "metadata": {
    "collapsed": false
   },
   "outputs": [
    {
     "data": {
      "text/plain": [
       "array([ 0.        ,  0.00150226,  0.00300451,  0.00450677,  0.00600902,\n",
       "        0.00751128,  0.00901353,  0.01051579,  0.01201805,  0.0135203 ,\n",
       "        0.01502256,  0.01652481,  0.01802707,  0.01952932,  0.02103158,\n",
       "        0.02253383,  0.02403609,  0.02553835,  0.0270406 ,  0.02854286,\n",
       "        0.03004511,  0.03154737,  0.03304962,  0.03455188,  0.03605414,\n",
       "        0.03755639,  0.03905865,  0.0405609 ,  0.04206316,  0.04356541,\n",
       "        0.04506767,  0.04656992,  0.04807218,  0.04957444,  0.05107669,\n",
       "        0.05257895,  0.0540812 ,  0.05558346,  0.05708571,  0.05858797,\n",
       "        0.06009023,  0.06159248,  0.06309474,  0.06459699,  0.06609925,\n",
       "        0.0676015 ,  0.06910376,  0.07060602,  0.07210827,  0.07361053,\n",
       "        0.07511278,  0.07661504,  0.07811729,  0.07961955,  0.0811218 ,\n",
       "        0.08262406,  0.08412632,  0.08562857,  0.08713083,  0.08863308,\n",
       "        0.09013534,  0.09163759,  0.09313985,  0.09464211,  0.09614436,\n",
       "        0.09764662,  0.09914887,  0.10065113,  0.10215338,  0.10365564,\n",
       "        0.10515789,  0.10666015,  0.10816241,  0.10966466,  0.11116692,\n",
       "        0.11266917,  0.11417143,  0.11567368,  0.11717594,  0.1186782 ,\n",
       "        0.12018045,  0.12168271,  0.12318496,  0.12468722,  0.12618947,\n",
       "        0.12769173,  0.12919398,  0.13069624,  0.1321985 ,  0.13370075,\n",
       "        0.13520301,  0.13670526,  0.13820752,  0.13970977,  0.14121203,\n",
       "        0.14271429,  0.14421654,  0.1457188 ,  0.14722105,  0.14872331,\n",
       "        0.15022556,  0.15172782,  0.15323008,  0.15473233,  0.15623459,\n",
       "        0.15773684,  0.1592391 ,  0.16074135,  0.16224361,  0.16374586,\n",
       "        0.16524812,  0.16675038,  0.16825263,  0.16975489,  0.17125714,\n",
       "        0.1727594 ,  0.17426165,  0.17576391,  0.17726617,  0.17876842,\n",
       "        0.18027068,  0.18177293,  0.18327519,  0.18477744,  0.1862797 ,\n",
       "        0.18778195,  0.18928421,  0.19078647,  0.19228872,  0.19379098,\n",
       "        0.19529323,  0.19679549,  0.19829774,  0.1998    ,  0.20130226,\n",
       "        0.20280451,  0.20430677,  0.20580902,  0.20731128,  0.20881353,\n",
       "        0.21031579,  0.21181805,  0.2133203 ,  0.21482256,  0.21632481,\n",
       "        0.21782707,  0.21932932,  0.22083158,  0.22233383,  0.22383609,\n",
       "        0.22533835,  0.2268406 ,  0.22834286,  0.22984511,  0.23134737,\n",
       "        0.23284962,  0.23435188,  0.23585414,  0.23735639,  0.23885865,\n",
       "        0.2403609 ,  0.24186316,  0.24336541,  0.24486767,  0.24636992,\n",
       "        0.24787218,  0.24937444,  0.25087669,  0.25237895,  0.2538812 ,\n",
       "        0.25538346,  0.25688571,  0.25838797,  0.25989023,  0.26139248,\n",
       "        0.26289474,  0.26439699,  0.26589925,  0.2674015 ,  0.26890376,\n",
       "        0.27040602,  0.27190827,  0.27341053,  0.27491278,  0.27641504,\n",
       "        0.27791729,  0.27941955,  0.2809218 ,  0.28242406,  0.28392632,\n",
       "        0.28542857,  0.28693083,  0.28843308,  0.28993534,  0.29143759,\n",
       "        0.29293985,  0.29444211,  0.29594436,  0.29744662,  0.29894887,\n",
       "        0.30045113,  0.30195338,  0.30345564,  0.30495789,  0.30646015,\n",
       "        0.30796241,  0.30946466,  0.31096692,  0.31246917,  0.31397143,\n",
       "        0.31547368,  0.31697594,  0.3184782 ,  0.31998045,  0.32148271,\n",
       "        0.32298496,  0.32448722,  0.32598947,  0.32749173,  0.32899398,\n",
       "        0.33049624,  0.3319985 ,  0.33350075,  0.33500301,  0.33650526,\n",
       "        0.33800752,  0.33950977,  0.34101203,  0.34251429,  0.34401654,\n",
       "        0.3455188 ,  0.34702105,  0.34852331,  0.35002556,  0.35152782,\n",
       "        0.35303008,  0.35453233,  0.35603459,  0.35753684,  0.3590391 ,\n",
       "        0.36054135,  0.36204361,  0.36354586,  0.36504812,  0.36655038,\n",
       "        0.36805263,  0.36955489,  0.37105714,  0.3725594 ,  0.37406165,\n",
       "        0.37556391,  0.37706617,  0.37856842,  0.38007068,  0.38157293,\n",
       "        0.38307519,  0.38457744,  0.3860797 ,  0.38758195,  0.38908421,\n",
       "        0.39058647,  0.39208872,  0.39359098,  0.39509323,  0.39659549,\n",
       "        0.39809774,  0.3996    ,  0.40110226,  0.40260451,  0.40410677,\n",
       "        0.40560902,  0.40711128,  0.40861353,  0.41011579,  0.41161805,\n",
       "        0.4131203 ,  0.41462256,  0.41612481,  0.41762707,  0.41912932,\n",
       "        0.42063158,  0.42213383,  0.42363609,  0.42513835,  0.4266406 ,\n",
       "        0.42814286,  0.42964511,  0.43114737,  0.43264962,  0.43415188,\n",
       "        0.43565414,  0.43715639,  0.43865865,  0.4401609 ,  0.44166316,\n",
       "        0.44316541,  0.44466767,  0.44616992,  0.44767218,  0.44917444,\n",
       "        0.45067669,  0.45217895,  0.4536812 ,  0.45518346,  0.45668571,\n",
       "        0.45818797,  0.45969023,  0.46119248,  0.46269474,  0.46419699,\n",
       "        0.46569925,  0.4672015 ,  0.46870376,  0.47020602,  0.47170827,\n",
       "        0.47321053,  0.47471278,  0.47621504,  0.47771729,  0.47921955,\n",
       "        0.4807218 ,  0.48222406,  0.48372632,  0.48522857,  0.48673083,\n",
       "        0.48823308,  0.48973534,  0.49123759,  0.49273985,  0.49424211,\n",
       "        0.49574436,  0.49724662,  0.49874887,  0.50025113,  0.50175338,\n",
       "        0.50325564,  0.50475789,  0.50626015,  0.50776241,  0.50926466,\n",
       "        0.51076692,  0.51226917,  0.51377143,  0.51527368,  0.51677594,\n",
       "        0.5182782 ,  0.51978045,  0.52128271,  0.52278496,  0.52428722,\n",
       "        0.52578947,  0.52729173,  0.52879398,  0.53029624,  0.5317985 ,\n",
       "        0.53330075,  0.53480301,  0.53630526,  0.53780752,  0.53930977,\n",
       "        0.54081203,  0.54231429,  0.54381654,  0.5453188 ,  0.54682105,\n",
       "        0.54832331,  0.54982556,  0.55132782,  0.55283008,  0.55433233,\n",
       "        0.55583459,  0.55733684,  0.5588391 ,  0.56034135,  0.56184361,\n",
       "        0.56334586,  0.56484812,  0.56635038,  0.56785263,  0.56935489,\n",
       "        0.57085714,  0.5723594 ,  0.57386165,  0.57536391,  0.57686617,\n",
       "        0.57836842,  0.57987068,  0.58137293,  0.58287519,  0.58437744,\n",
       "        0.5858797 ,  0.58738195,  0.58888421,  0.59038647,  0.59188872,\n",
       "        0.59339098,  0.59489323,  0.59639549,  0.59789774,  0.5994    ,\n",
       "        0.60090226,  0.60240451,  0.60390677,  0.60540902,  0.60691128,\n",
       "        0.60841353,  0.60991579,  0.61141805,  0.6129203 ,  0.61442256,\n",
       "        0.61592481,  0.61742707,  0.61892932,  0.62043158,  0.62193383,\n",
       "        0.62343609,  0.62493835,  0.6264406 ,  0.62794286,  0.62944511,\n",
       "        0.63094737,  0.63244962,  0.63395188,  0.63545414,  0.63695639,\n",
       "        0.63845865,  0.6399609 ,  0.64146316,  0.64296541,  0.64446767,\n",
       "        0.64596992,  0.64747218,  0.64897444,  0.65047669,  0.65197895,\n",
       "        0.6534812 ,  0.65498346,  0.65648571,  0.65798797,  0.65949023,\n",
       "        0.66099248,  0.66249474,  0.66399699,  0.66549925,  0.6670015 ,\n",
       "        0.66850376,  0.67000602,  0.67150827,  0.67301053,  0.67451278,\n",
       "        0.67601504,  0.67751729,  0.67901955,  0.6805218 ,  0.68202406,\n",
       "        0.68352632,  0.68502857,  0.68653083,  0.68803308,  0.68953534,\n",
       "        0.69103759,  0.69253985,  0.69404211,  0.69554436,  0.69704662,\n",
       "        0.69854887,  0.70005113,  0.70155338,  0.70305564,  0.70455789,\n",
       "        0.70606015,  0.70756241,  0.70906466,  0.71056692,  0.71206917,\n",
       "        0.71357143,  0.71507368,  0.71657594,  0.7180782 ,  0.71958045,\n",
       "        0.72108271,  0.72258496,  0.72408722,  0.72558947,  0.72709173,\n",
       "        0.72859398,  0.73009624,  0.7315985 ,  0.73310075,  0.73460301,\n",
       "        0.73610526,  0.73760752,  0.73910977,  0.74061203,  0.74211429,\n",
       "        0.74361654,  0.7451188 ,  0.74662105,  0.74812331,  0.74962556,\n",
       "        0.75112782,  0.75263008,  0.75413233,  0.75563459,  0.75713684,\n",
       "        0.7586391 ,  0.76014135,  0.76164361,  0.76314586,  0.76464812,\n",
       "        0.76615038,  0.76765263,  0.76915489,  0.77065714,  0.7721594 ,\n",
       "        0.77366165,  0.77516391,  0.77666617,  0.77816842,  0.77967068,\n",
       "        0.78117293,  0.78267519,  0.78417744,  0.7856797 ,  0.78718195,\n",
       "        0.78868421,  0.79018647,  0.79168872,  0.79319098,  0.79469323,\n",
       "        0.79619549,  0.79769774,  0.7992    ,  0.80070226,  0.80220451,\n",
       "        0.80370677,  0.80520902,  0.80671128,  0.80821353,  0.80971579,\n",
       "        0.81121805,  0.8127203 ,  0.81422256,  0.81572481,  0.81722707,\n",
       "        0.81872932,  0.82023158,  0.82173383,  0.82323609,  0.82473835,\n",
       "        0.8262406 ,  0.82774286,  0.82924511,  0.83074737,  0.83224962,\n",
       "        0.83375188,  0.83525414,  0.83675639,  0.83825865,  0.8397609 ,\n",
       "        0.84126316,  0.84276541,  0.84426767,  0.84576992,  0.84727218,\n",
       "        0.84877444,  0.85027669,  0.85177895,  0.8532812 ,  0.85478346,\n",
       "        0.85628571,  0.85778797,  0.85929023,  0.86079248,  0.86229474,\n",
       "        0.86379699,  0.86529925,  0.8668015 ,  0.86830376,  0.86980602,\n",
       "        0.87130827,  0.87281053,  0.87431278,  0.87581504,  0.87731729,\n",
       "        0.87881955,  0.8803218 ,  0.88182406,  0.88332632,  0.88482857,\n",
       "        0.88633083,  0.88783308,  0.88933534,  0.89083759,  0.89233985,\n",
       "        0.89384211,  0.89534436,  0.89684662,  0.89834887,  0.89985113,\n",
       "        0.90135338,  0.90285564,  0.90435789,  0.90586015,  0.90736241,\n",
       "        0.90886466,  0.91036692,  0.91186917,  0.91337143,  0.91487368,\n",
       "        0.91637594,  0.9178782 ,  0.91938045,  0.92088271,  0.92238496,\n",
       "        0.92388722,  0.92538947,  0.92689173,  0.92839398,  0.92989624,\n",
       "        0.9313985 ,  0.93290075,  0.93440301,  0.93590526,  0.93740752,\n",
       "        0.93890977,  0.94041203,  0.94191429,  0.94341654,  0.9449188 ,\n",
       "        0.94642105,  0.94792331,  0.94942556,  0.95092782,  0.95243008,\n",
       "        0.95393233,  0.95543459,  0.95693684,  0.9584391 ,  0.95994135,\n",
       "        0.96144361,  0.96294586,  0.96444812,  0.96595038,  0.96745263,\n",
       "        0.96895489,  0.97045714,  0.9719594 ,  0.97346165,  0.97496391,\n",
       "        0.97646617,  0.97796842,  0.97947068,  0.98097293,  0.98247519,\n",
       "        0.98397744,  0.9854797 ,  0.98698195,  0.98848421,  0.98998647,\n",
       "        0.99148872,  0.99299098,  0.99449323,  0.99599549,  0.99749774,\n",
       "        0.999     ])"
      ]
     },
     "execution_count": 76,
     "metadata": {},
     "output_type": "execute_result"
    }
   ],
   "source": [
    "r/L*(Na/ell)"
   ]
  },
  {
   "cell_type": "code",
   "execution_count": 56,
   "metadata": {
    "collapsed": false
   },
   "outputs": [
    {
     "data": {
      "text/plain": [
       "666"
      ]
     },
     "execution_count": 56,
     "metadata": {},
     "output_type": "execute_result"
    }
   ],
   "source": [
    "len( np.sum(counts,axis=1)/numTries)"
   ]
  },
  {
   "cell_type": "code",
   "execution_count": 126,
   "metadata": {
    "collapsed": false
   },
   "outputs": [],
   "source": [
    "sh=np.arange(len(road))\n",
    "np.random.shuffle(sh)\n",
    "road=road[sh]"
   ]
  },
  {
   "cell_type": "code",
   "execution_count": 128,
   "metadata": {
    "collapsed": false
   },
   "outputs": [],
   "source": []
  },
  {
   "cell_type": "code",
   "execution_count": 114,
   "metadata": {
    "collapsed": false
   },
   "outputs": [
    {
     "name": "stdout",
     "output_type": "stream",
     "text": [
      "True\n"
     ]
    }
   ],
   "source": [
    "a1=1\n",
    "print(a1==1)"
   ]
  },
  {
   "cell_type": "code",
   "execution_count": 75,
   "metadata": {
    "collapsed": false
   },
   "outputs": [
    {
     "name": "stdout",
     "output_type": "stream",
     "text": [
      "666\n"
     ]
    }
   ],
   "source": [
    "print(len(road[0]))"
   ]
  },
  {
   "cell_type": "code",
   "execution_count": 8,
   "metadata": {
    "collapsed": false
   },
   "outputs": [
    {
     "data": {
      "text/plain": [
       "array([ 0.])"
      ]
     },
     "execution_count": 8,
     "metadata": {},
     "output_type": "execute_result"
    }
   ],
   "source": [
    "1-(1-rhoa*r)**(rhoa*1000)"
   ]
  },
  {
   "cell_type": "code",
   "execution_count": 11,
   "metadata": {
    "collapsed": true
   },
   "outputs": [],
   "source": [
    "#checking phase transition!"
   ]
  },
  {
   "cell_type": "code",
   "execution_count": 20,
   "metadata": {
    "collapsed": false
   },
   "outputs": [],
   "source": [
    "a1=np.zeros([2,1])"
   ]
  },
  {
   "cell_type": "code",
   "execution_count": 22,
   "metadata": {
    "collapsed": false
   },
   "outputs": [
    {
     "data": {
      "text/plain": [
       "(2, 1)"
      ]
     },
     "execution_count": 22,
     "metadata": {},
     "output_type": "execute_result"
    }
   ],
   "source": [
    "np.shape(a1)"
   ]
  },
  {
   "cell_type": "code",
   "execution_count": 215,
   "metadata": {
    "collapsed": false
   },
   "outputs": [
    {
     "data": {
      "image/png": "[encoded data removed]",
      "text/plain": [
       "<matplotlib.figure.Figure at 0x7fe07da05668>"
      ]
     },
     "metadata": {},
     "output_type": "display_data"
    }
   ],
   "source": [
    "fig=plt.figure()\n",
    "for i in range(0,5):\n",
    "#i=0\n",
    "    #pylab.plot(rho_sc,vel_sc[i,:]*3.6,'ro')\n",
    "    pylab.loglog(40-rho_sc,vel_sc[i,:]/vel_sc[i,0],'.')\n",
    "    temp=[rho_sc,vel_sc[i,:]/vel_sc[i,0]]\n",
    "    a1=np.c_[a1,temp]\n",
    "    #pylab.errorbar(rho_sc,vel_sc[i,:]*3.6,vel_sc_std[i,:]*3.6,linestyle='None',color='k')\n",
    "plt.ylim(.01,5)\n",
    "plt.xlim(9,60)\n",
    "#pylab.legend(loc='best',prop={'size': 12})\n",
    "plt.xlabel('40-density(#stopped cars/km)')\n",
    "plt.ylabel('Velocity(km/hr)/maxVel')\n",
    "pylab.show()\n",
    "#fig.savefig('pinned-velocitydensity.jpg',dpi=300)"
   ]
  },
  {
   "cell_type": "code",
   "execution_count": 58,
   "metadata": {
    "collapsed": false
   },
   "outputs": [
    {
     "data": {
      "text/plain": [
       "array([ 1.        ,  0.66754956,  0.401831  ,  0.16530602,  0.0140483 ,  0.        ])"
      ]
     },
     "execution_count": 58,
     "metadata": {},
     "output_type": "execute_result"
    }
   ],
   "source": [
    "vel_sc[0,:]/vel_sc[0,0]"
   ]
  },
  {
   "cell_type": "code",
   "execution_count": 114,
   "metadata": {
    "collapsed": false
   },
   "outputs": [
    {
     "data": {
      "text/plain": [
       "[<matplotlib.lines.Line2D at 0x7fe07e33e128>]"
      ]
     },
     "execution_count": 114,
     "metadata": {},
     "output_type": "execute_result"
    },
    {
     "data": {
      "image/png": "[encoded data removed]",
      "text/plain": [
       "<matplotlib.figure.Figure at 0x7fe07e80f358>"
      ]
     },
     "metadata": {},
     "output_type": "display_data"
    }
   ],
   "source": [
    "plt.loglog(50-rhovel_norm[0,:],rhovel_norm[1,:],'k.')"
   ]
  },
  {
   "cell_type": "code",
   "execution_count": 190,
   "metadata": {
    "collapsed": true
   },
   "outputs": [],
   "source": [
    "def fit_power(x, a, b):\n",
    "    return a*(40-x)**b\n"
   ]
  },
  {
   "cell_type": "code",
   "execution_count": 191,
   "metadata": {
    "collapsed": true
   },
   "outputs": [],
   "source": [
    "w=np.where(rhovel_norm[0,:] <50)[0]"
   ]
  },
  {
   "cell_type": "code",
   "execution_count": 192,
   "metadata": {
    "collapsed": false
   },
   "outputs": [],
   "source": [
    "pa = curve_fit(fit_power, rhovel_norm[0,w], rhovel_norm[1,w])[0]"
   ]
  },
  {
   "cell_type": "code",
   "execution_count": 193,
   "metadata": {
    "collapsed": false
   },
   "outputs": [
    {
     "data": {
      "text/plain": [
       "array([  8.40171783e-04,   1.93592408e+00])"
      ]
     },
     "execution_count": 193,
     "metadata": {},
     "output_type": "execute_result"
    }
   ],
   "source": [
    "pa"
   ]
  },
  {
   "cell_type": "code",
   "execution_count": 197,
   "metadata": {
    "collapsed": false
   },
   "outputs": [],
   "source": [
    "rh=np.linspace(0,35,100)"
   ]
  },
  {
   "cell_type": "code",
   "execution_count": 216,
   "metadata": {
    "collapsed": false
   },
   "outputs": [
    {
     "data": {
      "text/plain": [
       "[<matplotlib.lines.Line2D at 0x7fe07d91d9b0>]"
      ]
     },
     "execution_count": 216,
     "metadata": {},
     "output_type": "execute_result"
    },
    {
     "data": {
      "image/png": "[encoded data removed]",
      "text/plain": [
       "<matplotlib.figure.Figure at 0x7fe07dbf2cc0>"
      ]
     },
     "metadata": {},
     "output_type": "display_data"
    }
   ],
   "source": [
    "plt.loglog(rhovel_norm[0,:],rhovel_norm[1,:],'k.')\n",
    "plt.loglog(rh,pa[0]*(40-rh)**pa[1])"
   ]
  },
  {
   "cell_type": "code",
   "execution_count": 46,
   "metadata": {
    "collapsed": false
   },
   "outputs": [
    {
     "data": {
      "text/plain": [
       "665"
      ]
     },
     "execution_count": 46,
     "metadata": {},
     "output_type": "execute_result"
    }
   ],
   "source": [
    "np.shape(np.ones([1,i]))[1]"
   ]
  },
  {
   "cell_type": "code",
   "execution_count": 43,
   "metadata": {
    "collapsed": false
   },
   "outputs": [
    {
     "name": "stdout",
     "output_type": "stream",
     "text": [
      "665\n"
     ]
    }
   ],
   "source": [
    "print(i)"
   ]
  },
  {
   "cell_type": "code",
   "execution_count": 58,
   "metadata": {
    "collapsed": false
   },
   "outputs": [
    {
     "data": {
      "text/plain": [
       "(665,)"
      ]
     },
     "execution_count": 58,
     "metadata": {},
     "output_type": "execute_result"
    }
   ],
   "source": [
    "np.shape(road[0,:i])"
   ]
  },
  {
   "cell_type": "code",
   "execution_count": 59,
   "metadata": {
    "collapsed": false
   },
   "outputs": [
    {
     "ename": "TypeError",
     "evalue": "data type not understood",
     "output_type": "error",
     "traceback": [
      "\u001b[1;31m---------------------------------------------------------------------------\u001b[0m",
      "\u001b[1;31mTypeError\u001b[0m                                 Traceback (most recent call last)",
      "\u001b[1;32m<ipython-input-59-cb3a352feb54>\u001b[0m in \u001b[0;36m<module>\u001b[1;34m()\u001b[0m\n\u001b[1;32m----> 1\u001b[1;33m \u001b[0mnp\u001b[0m\u001b[1;33m.\u001b[0m\u001b[0mshape\u001b[0m\u001b[1;33m(\u001b[0m\u001b[0mnp\u001b[0m\u001b[1;33m.\u001b[0m\u001b[0mones\u001b[0m\u001b[1;33m(\u001b[0m\u001b[1;36m1\u001b[0m\u001b[1;33m,\u001b[0m\u001b[0mi\u001b[0m\u001b[1;33m)\u001b[0m\u001b[1;33m)\u001b[0m\u001b[1;33m\u001b[0m\u001b[0m\n\u001b[0m",
      "\u001b[1;32m/home/svivek/anaconda3/lib/python3.5/site-packages/numpy/core/numeric.py\u001b[0m in \u001b[0;36mones\u001b[1;34m(shape, dtype, order)\u001b[0m\n\u001b[0;32m    188\u001b[0m \u001b[1;33m\u001b[0m\u001b[0m\n\u001b[0;32m    189\u001b[0m     \"\"\"\n\u001b[1;32m--> 190\u001b[1;33m     \u001b[0ma\u001b[0m \u001b[1;33m=\u001b[0m \u001b[0mempty\u001b[0m\u001b[1;33m(\u001b[0m\u001b[0mshape\u001b[0m\u001b[1;33m,\u001b[0m \u001b[0mdtype\u001b[0m\u001b[1;33m,\u001b[0m \u001b[0morder\u001b[0m\u001b[1;33m)\u001b[0m\u001b[1;33m\u001b[0m\u001b[0m\n\u001b[0m\u001b[0;32m    191\u001b[0m     \u001b[0mmultiarray\u001b[0m\u001b[1;33m.\u001b[0m\u001b[0mcopyto\u001b[0m\u001b[1;33m(\u001b[0m\u001b[0ma\u001b[0m\u001b[1;33m,\u001b[0m \u001b[1;36m1\u001b[0m\u001b[1;33m,\u001b[0m \u001b[0mcasting\u001b[0m\u001b[1;33m=\u001b[0m\u001b[1;34m'unsafe'\u001b[0m\u001b[1;33m)\u001b[0m\u001b[1;33m\u001b[0m\u001b[0m\n\u001b[0;32m    192\u001b[0m     \u001b[1;32mreturn\u001b[0m \u001b[0ma\u001b[0m\u001b[1;33m\u001b[0m\u001b[0m\n",
      "\u001b[1;31mTypeError\u001b[0m: data type not understood"
     ]
    }
   ],
   "source": [
    "np.shape(np.ones(1,i))"
   ]
  },
  {
   "cell_type": "code",
   "execution_count": 140,
   "metadata": {
    "collapsed": true
   },
   "outputs": [],
   "source": [
    "ep=29/.1*(1-(4.5/58))**(-1.5)        "
   ]
  },
  {
   "cell_type": "code",
   "execution_count": 68,
   "metadata": {
    "collapsed": false
   },
   "outputs": [
    {
     "data": {
      "text/plain": [
       "666"
      ]
     },
     "execution_count": 68,
     "metadata": {},
     "output_type": "execute_result"
    }
   ],
   "source": [
    "ep*(1-(x/self.R))**(1.5)"
   ]
  }
 ],
 "metadata": {
  "anaconda-cloud": {},
  "kernelspec": {
   "display_name": "Python [Root]",
   "language": "python",
   "name": "Python [Root]"
  },
  "language_info": {
   "codemirror_mode": {
    "name": "ipython",
    "version": 3
   },
   "file_extension": ".py",
   "mimetype": "text/x-python",
   "name": "python",
   "nbconvert_exporter": "python",
   "pygments_lexer": "ipython3",
   "version": "3.5.2"
  }
 },
 "nbformat": 4,
 "nbformat_minor": 0
}
