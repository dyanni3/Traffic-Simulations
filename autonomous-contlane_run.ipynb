{
 "cells": [
  {
   "cell_type": "code",
   "execution_count": 1,
   "metadata": {
    "collapsed": true
   },
   "outputs": [],
   "source": [
    "import numpy as np\n",
    "from matplotlib import pyplot as plt\n",
    "import cv2\n",
    "import random\n",
    "from matplotlib import animation\n",
    "from matplotlib.animation import FuncAnimation\n",
    "%matplotlib inline\n",
    "from scipy.optimize import curve_fit\n",
    "import matplotlib.pylab as pylab\n",
    "from scipy.stats import iqr\n",
    "from scipy.spatial import Voronoi, voronoi_plot_2d, Delaunay\n",
    "from collections import defaultdict\n",
    "import itertools"
   ]
  },
  {
   "cell_type": "code",
   "execution_count": 16,
   "metadata": {
    "collapsed": true
   },
   "outputs": [],
   "source": [
    "def pb(x0,L):\n",
    "    return((x0+L)%L)\n",
    "\n",
    "\n",
    "class ant():\n",
    "\n",
    "    def __init__(self,ids,flowc=0,stoppedc=0,cari=0):\n",
    "        self.x=np.random.uniform(0,L)\n",
    "        self.y=round(np.random.uniform(-1,1))*5        \n",
    "        self.xunp=self.x\n",
    "        self.v=np.random.uniform(0,1)\n",
    "        self.dt=.05\n",
    "        self.tau=.1\n",
    "        #self.std=0\n",
    "        self.v_pref=29#+min(np.random.normal(0,6.7),6.7)\n",
    "        self.R=58\n",
    "        self.r=4.5\n",
    "        self.ids=ids\n",
    "        self.stopped=0\n",
    "        #print(cari)\n",
    "        if (cari>=flowc):   \n",
    "            #print(cari)\n",
    "            self.v_pref=0  \n",
    "            self.v=0\n",
    "            self.stopped=1\n",
    "            #self.x=500-cari*9.1\n",
    "            #self.y=5*(cari-flowc-1)\n",
    "                #print(stoppedc)\n",
    "        self.ep=((self.v_pref)/self.tau)*(1-(self.r/self.R))**(-1.5)\n",
    "        \n",
    "\n",
    "  \n",
    "    def step(self,x1=None,y1=None,vbar=0,counter=0):\n",
    "        if (self.stopped==1):\n",
    "            return\n",
    "        fx=0\n",
    "        fy=0\n",
    "        x0=self.x\n",
    "        y0=self.y\n",
    "        r0=np.sqrt(x0**2+y0**2)\n",
    "        r1=np.sqrt(x1**2+y1**2)\n",
    "        fx=stepx(self.ep,self.R,x0,y0,x1,y1,L)        \n",
    "        self.v=max(0,self.v+self.dt*((self.v_pref -self.v)/self.tau -fx))\n",
    "        self.x=pb(self.x+self.dt*self.v,L)\n",
    "        x0=self.x\n",
    "        #r0=np.sqrt(x0**2+y0**2)\n",
    "        #r1=np.sqrt(x1**2+y1*2)\n",
    "        #dr=np.minimum(abs(r1-r0),L-abs(r1-r0))[0] #if any car is blocking, no lane change\n",
    "        #if(dr<4.5):\n",
    "        #    return #if any car is blocking, no lane change - return\n",
    "        rand=np.random.uniform(-5,5)\n",
    "        #rand=round(np.random.uniform(-1,1))*5 \n",
    "        if(rand>0):#continuous lane change in +y\n",
    "            w=np.where((np.minimum(abs(x1-x0),L-abs(x1-x0))<4.5) & (y1>y0))[0]  #y-blindsight\n",
    "            y0=self.y+rand\n",
    "            y0=min(y0,maxLy)\n",
    "            if (len(w)>0):\n",
    "                #print(rand)\n",
    "                x11=x1[w]\n",
    "                y11=y1[w]\n",
    "                r0=np.sqrt(x0**2+y0*2)\n",
    "                r11=np.sqrt(x11**2+y11**2)\n",
    "                dr=min(np.minimum(np.sqrt((x11-x0)**2+(y11-y0)**2),np.sqrt((L-(x11-x0))**2+(y11-y0)**2)))  \n",
    "                #if any car in the way of new change, no lane change\n",
    "                if(dr<4.5):\n",
    "                    return\n",
    "            fx1=stepx(self.ep,self.R,x0,self.y,x1,y1,L) \n",
    "            fx2=stepx(self.ep,self.R,x0,y0,x1,y1,L)\n",
    "            if (fx2<fx1): # accept lane change only if beneficial\n",
    "                #print(rand)\n",
    "                self.y=y0\n",
    "\n",
    "        #print(rand)\n",
    "        if(rand<0):#continuous lane change in +y\n",
    "            w=np.where((np.minimum(abs(x1-x0),L-abs(x1-x0))<4.5) & (y1<y0))[0]\n",
    "            y0=y0+rand\n",
    "            y0=max(y0,minLy)\n",
    "            #print(y0,self.y)\n",
    "            #print(rand)\n",
    "            if (len(w)>0):\n",
    "                #print(rand)\n",
    "                x12=x1[w]\n",
    "                y12=y1[w]\n",
    "                r0=np.sqrt(x0**2+y0*2)\n",
    "                #r12=\n",
    "                dr2=min(np.minimum(np.sqrt((x12-x0)**2+(y12-y0)**2),np.sqrt((L-(x12-x0))**2+(y12-y0)**2)))   \n",
    "                \n",
    "                if(dr2<4.5):\n",
    "                    #print(rand)\n",
    "                    return\n",
    "            fx1=stepx(self.ep,self.R,x0,self.y,x1,y1,L) \n",
    "            fx2=stepx(self.ep,self.R,x0,y0,x1,y1,L)\n",
    "            #print(fx2,fx1,self.x,self.y)\n",
    "            #print(rand)\n",
    "            #print(fx2,fx1)\n",
    "            if (fx2<fx1):\n",
    "                #print(rand)\n",
    "                self.y=y0\n",
    "        \n",
    "def stepx(ep,R,x0,y0,x1,y1,L): #x direction force\n",
    "    f=0\n",
    "    r0=np.sqrt(x0**2+y0**2)\n",
    "    r1=np.sqrt(x1**2+y1**2)\n",
    "    #print(len(r1))\n",
    "    w=np.where((y1<y0+4.5) & (y1>y0-4.5) & (x1!=x0))[0] # all cars in blindsight\n",
    "    if (len(w)>0):\n",
    "        #print(len(w))\n",
    "        x01=x1[w]\n",
    "        y01=y1[w]\n",
    "        w=np.where((x01-x0>0) | (L+x01-x0<R))[0] # only cars in front (periodic bc)\n",
    "        if (len(w)>0):\n",
    "            #print(len(w))\n",
    "            x01=x01[w]\n",
    "            y01=y01[w]\n",
    "            r01=np.sqrt(x01**2+y01*2)\n",
    "            #dr=(np.minimum(abs(x01-x0),L-abs(x01-x0))) # minimum distance with only cars in front\n",
    "            #print(len(dr))\n",
    "            dr=min(np.minimum(np.sqrt((x01-x0)**2+(y01-y0)**2),np.sqrt((L-(x01-x0))**2+(y01-y0)**2)))   \n",
    "            #print(dr)\n",
    "            #dr=np.min(abs(r1-r0))\n",
    "            if(dr<R):\n",
    "                f=ep*(1-(dr/R))**(1.5)\n",
    "    return(f)\n",
    "        \n",
    "        \n",
    "\n",
    "class ants():\n",
    "    def __init__(self,num_ants=20,flowc=0,stoppedc=0):\n",
    "        self.members=[ant(ids=i,flowc=flowc,stoppedc=stoppedc,cari=i) for i in range(num_ants)];\n",
    "        self.statex=np.array([bug.x for bug in self.members])\n",
    "        self.stopped=np.array([bug.stopped for bug in self.members])\n",
    "        self.statey=np.array([bug.y for bug in self.members])\n",
    "        self.xunp=np.array([bug.xunp for bug in self.members])\n",
    "        self.vel=np.array([bug.v for bug in self.members])\n",
    "        self.ids=np.array([i for i in range(num_ants)])\n",
    "        self.vp=np.array([bug.v_pref for bug in self.members])\n",
    "        self.members=sorted(self.members, key=lambda y: y.x)\n",
    "        self.counter=0\n",
    "        self.vbar=0\n",
    "    def step(self):\n",
    "        #meanvel=0\n",
    "        for i,bug in enumerate(self.members):\n",
    "            #x1=pb(self.statex,L)           \n",
    "            #y1=pb(self.statey,15)           \n",
    "            bug.step(self.statex,self.statey,self.vbar,self.counter)\n",
    "#\t\tprint(self.counter)\n",
    "        self.members=sorted(self.members,key=lambda y: y.x)\n",
    "        self.statex=np.array([bug.x for bug in self.members])\n",
    "        self.statey=np.array([bug.y for bug in self.members])\n",
    "        self.xunp=np.array([bug.xunp for bug in self.members])\n",
    "        self.vel=np.array([bug.v for bug in self.members])\n",
    "        self.ids=np.array([bug.ids for bug in self.members])\n",
    "        self.stopped=np.array([bug.stopped for bug in self.members])\n",
    "        return(np.mean(self.vel))\n",
    "#\t\tself.vp=np.array([bug.v_pref for bug in self.members])\n",
    "    def view(self,t):\n",
    "        fig=plt.figure()\n",
    "        plt.plot(my_ants.statex,my_ants.statey,'ro',markersize=7)\n",
    "        w=np.where(my_ants.stopped==1)[0]\n",
    "        plt.plot(my_ants.statex[w],my_ants.statey[w],'ko',markersize=7)\n",
    "        plt.xlim(0,1000)\n",
    "        plt.ylim(-50,50)\n",
    "        fig.savefig('./images/graph'+str(t)+'.png') #save figures\n",
    "        plt.close(fig)\n",
    "\n",
    "\n",
    "\n",
    "def run():\n",
    "    a1=0\n",
    "#posn=np.zeros((1,3))\n",
    "#dens2=np.zeros(10000)\n",
    "#phi2=np.zeros(10000)\n",
    "    for t in range(10000):\n",
    "        meanv=my_ants.step()\n",
    "#\ta1=np.c_[my_ants.ids,my_ants.ids*0+t,my_ants.xunp]\n",
    "#\tposn=(np.r_[posn,a1])\n",
    "        if ((t>9998)):\n",
    "            mv.append(meanv)\n",
    "        #if ((t==10000-j)):\n",
    "\n",
    "            my_ants.view(t)\n",
    "#\t\tw=np.where((my_ants.state>500) &(my_ants.state<1000))[0]\n",
    "#\t\tdens2[t]=len(w)/500*1000\n",
    "#\t\tphi2[t]=np.sum(my_ants.vel[w])*3.6/(500/1000)\n",
    "        if t%1000==0:\n",
    "            print(t)\n",
    "#return (posn)\n"
   ]
  },
  {
   "cell_type": "code",
   "execution_count": 19,
   "metadata": {
    "collapsed": false
   },
   "outputs": [
    {
     "name": "stdout",
     "output_type": "stream",
     "text": [
      "0\n"
     ]
    },
    {
     "name": "stderr",
     "output_type": "stream",
     "text": [
      "/home/svivek/anaconda3/lib/python3.5/site-packages/ipykernel/__main__.py:115: RuntimeWarning: invalid value encountered in sqrt\n",
      "/home/svivek/anaconda3/lib/python3.5/site-packages/ipykernel/__main__.py:61: RuntimeWarning: invalid value encountered in sqrt\n",
      "/home/svivek/anaconda3/lib/python3.5/site-packages/ipykernel/__main__.py:84: RuntimeWarning: invalid value encountered in sqrt\n"
     ]
    },
    {
     "name": "stdout",
     "output_type": "stream",
     "text": [
      "1000\n",
      "2000\n",
      "3000\n",
      "4000\n",
      "5000\n",
      "6000\n",
      "7000\n",
      "8000\n",
      "9000\n",
      "0\n"
     ]
    }
   ],
   "source": [
    "L=1000\n",
    "maxLy=5\n",
    "minLy=-5\n",
    "\n",
    "rho_a=np.linspace(0.001,.16,10)*3\n",
    "sc=np.array([1,5,10,20,30,50])\n",
    "sc=sc*3\n",
    "phi_a=np.zeros([len(rho_a),len(sc),11])\n",
    "vel_a=np.zeros([len(rho_a),len(sc),11])\n",
    "#vb2=np.zeros([15,10000])\n",
    "for k,dens in enumerate(rho_a):\n",
    "    #print(k)\n",
    "\n",
    "    for j in range(len(phi_a[0,0,:])):\n",
    "        for i,stopc in enumerate(sc):\n",
    "            #print(i)\n",
    "            mv=[]\n",
    "            flowc=int(dens*L)\n",
    "            #print(flowc)\n",
    "            stoppedc=stopc\n",
    "            num_ants=stoppedc+flowc    \n",
    "            my_ants=ants(num_ants=num_ants,flowc=flowc,stoppedc=stoppedc)\n",
    "#\tposn=np.zeros(num_ants)\n",
    "            run()\n",
    "        #print(i,j)\n",
    "            phi_a[k,i,j]=dens*mv[-1]\n",
    "            vel_a[k,i,j]=mv[-1]\n",
    "        print(j*k)\n",
    "        #eval('rvp_cont_'+str(rho_a)+'fctot_100it')"
   ]
  },
  {
   "cell_type": "code",
   "execution_count": null,
   "metadata": {
    "collapsed": true
   },
   "outputs": [],
   "source": [
    "sio.savemat(\"rvp_cont_vel_10it.mat\",{'rvp_cont_vel_10it':vel_a})"
   ]
  },
  {
   "cell_type": "code",
   "execution_count": 10,
   "metadata": {
    "collapsed": true
   },
   "outputs": [],
   "source": [
    "#vel_sc=np.zeros(10)\n",
    "#phi_sc=np.zeros(10)\n",
    "#rho_ath=np.linspace(.001,.16,100)\n",
    "#rho_a=np.linspace(.001,.16,10)"
   ]
  },
  {
   "cell_type": "code",
   "execution_count": 11,
   "metadata": {
    "collapsed": true
   },
   "outputs": [],
   "source": [
    "#for i in range(0,10):\n",
    "#    vel=vel_a[i,0,0]*(sc+int(rho_a[i]*1000))/int(rho_a[i]*1000)\n",
    "#    vel_sc[i]=np.mean(vel)\n",
    "#    phi_sc[i]=np.mean(vel)*rho_a[i]     \n",
    "#  "
   ]
  },
  {
   "cell_type": "code",
   "execution_count": 13,
   "metadata": {
    "collapsed": false
   },
   "outputs": [
    {
     "name": "stderr",
     "output_type": "stream",
     "text": [
      "/home/svivek/anaconda3/lib/python3.5/site-packages/ipykernel/__main__.py:2: RuntimeWarning: invalid value encountered in power\n",
      "  from ipykernel import kernelapp as app\n"
     ]
    },
    {
     "data": {
      "image/png": "[encoded data removed]",
      "text/plain": [
       "<matplotlib.figure.Figure at 0x7f6f7d9fc518>"
      ]
     },
     "metadata": {},
     "output_type": "display_data"
    }
   ],
   "source": [
    "#plt.plot(rho_a*1000,phi_sc*3600,'.')\n",
    "#lth,=plt.plot(rho_ath*1000,rho_ath*1000*29*3.6-np.nan_to_num(rho_ath*1000*(29*3.6)*(1-(4.5/(2*29)))**(-1.5)*(1-1/(2*rho_ath*1000*.029))**(1.5)),label='theory')\n"
   ]
  }
 ],
 "metadata": {
  "anaconda-cloud": {},
  "kernelspec": {
   "display_name": "Python [Root]",
   "language": "python",
   "name": "Python [Root]"
  },
  "language_info": {
   "codemirror_mode": {
    "name": "ipython",
    "version": 3
   },
   "file_extension": ".py",
   "mimetype": "text/x-python",
   "name": "python",
   "nbconvert_exporter": "python",
   "pygments_lexer": "ipython3",
   "version": "3.5.2"
  }
 },
 "nbformat": 4,
 "nbformat_minor": 0
}
